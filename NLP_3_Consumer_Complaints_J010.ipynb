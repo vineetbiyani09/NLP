{
  "nbformat": 4,
  "nbformat_minor": 0,
  "metadata": {
    "colab": {
      "name": "NLP_3_Consumer_Complaints_J010.ipynb",
      "provenance": [],
      "collapsed_sections": [],
      "include_colab_link": true
    },
    "kernelspec": {
      "name": "python3",
      "display_name": "Python 3"
    },
    "accelerator": "GPU"
  },
  "cells": [
    {
      "cell_type": "markdown",
      "metadata": {
        "id": "view-in-github",
        "colab_type": "text"
      },
      "source": [
        "<a href=\"https://colab.research.google.com/github/vineetbiyani09/NLP/blob/master/NLP_3_Consumer_Complaints_J010.ipynb\" target=\"_parent\"><img src=\"https://colab.research.google.com/assets/colab-badge.svg\" alt=\"Open In Colab\"/></a>"
      ]
    },
    {
      "cell_type": "code",
      "metadata": {
        "colab": {
          "base_uri": "https://localhost:8080/"
        },
        "id": "UAu1GNQvwNR4",
        "outputId": "a6987b0d-ee72-46bc-df23-3fcd12a870ac"
      },
      "source": [
        "import nltk as nltk\n",
        "# import gensim as gs\n",
        "# import spacy as sp\n",
        "# import textblob as tb\n",
        "import numpy as np\n",
        "import pandas as pd\n",
        "import matplotlib.pyplot as plt\n",
        "import nltk\n",
        "nltk.download('stopwords')\n",
        "nltk.download('punkt')\n",
        "from nltk.corpus import stopwords\n",
        "from string import punctuation\n",
        "from nltk.tokenize import word_tokenize\n",
        "from nltk.stem import LancasterStemmer"
      ],
      "execution_count": null,
      "outputs": [
        {
          "output_type": "stream",
          "text": [
            "[nltk_data] Downloading package stopwords to /root/nltk_data...\n",
            "[nltk_data]   Unzipping corpora/stopwords.zip.\n",
            "[nltk_data] Downloading package punkt to /root/nltk_data...\n",
            "[nltk_data]   Unzipping tokenizers/punkt.zip.\n"
          ],
          "name": "stdout"
        }
      ]
    },
    {
      "cell_type": "code",
      "metadata": {
        "colab": {
          "base_uri": "https://localhost:8080/"
        },
        "id": "BjykdabKwl6w",
        "outputId": "669cb7eb-0d3f-42f8-d5b1-cddeda97b7ca"
      },
      "source": [
        "from google.colab import drive\n",
        "drive.mount('/content/drive')"
      ],
      "execution_count": null,
      "outputs": [
        {
          "output_type": "stream",
          "text": [
            "Mounted at /content/drive\n"
          ],
          "name": "stdout"
        }
      ]
    },
    {
      "cell_type": "code",
      "metadata": {
        "colab": {
          "base_uri": "https://localhost:8080/",
          "height": 668
        },
        "id": "GrWKHY3hwsgu",
        "outputId": "1d70be8a-4ffd-48a3-f1dc-4d39a563bce0"
      },
      "source": [
        "df = pd.read_csv('/content/drive/MyDrive/Consumer_Complaints_big.csv')\n",
        "df.head()"
      ],
      "execution_count": null,
      "outputs": [
        {
          "output_type": "stream",
          "text": [
            "/usr/local/lib/python3.6/dist-packages/IPython/core/interactiveshell.py:2718: DtypeWarning: Columns (5,6,11,16) have mixed types.Specify dtype option on import or set low_memory=False.\n",
            "  interactivity=interactivity, compiler=compiler, result=result)\n"
          ],
          "name": "stderr"
        },
        {
          "output_type": "execute_result",
          "data": {
            "text/html": [
              "<div>\n",
              "<style scoped>\n",
              "    .dataframe tbody tr th:only-of-type {\n",
              "        vertical-align: middle;\n",
              "    }\n",
              "\n",
              "    .dataframe tbody tr th {\n",
              "        vertical-align: top;\n",
              "    }\n",
              "\n",
              "    .dataframe thead th {\n",
              "        text-align: right;\n",
              "    }\n",
              "</style>\n",
              "<table border=\"1\" class=\"dataframe\">\n",
              "  <thead>\n",
              "    <tr style=\"text-align: right;\">\n",
              "      <th></th>\n",
              "      <th>Date received</th>\n",
              "      <th>Product</th>\n",
              "      <th>Sub-product</th>\n",
              "      <th>Issue</th>\n",
              "      <th>Sub-issue</th>\n",
              "      <th>Consumer complaint narrative</th>\n",
              "      <th>Company public response</th>\n",
              "      <th>Company</th>\n",
              "      <th>State</th>\n",
              "      <th>ZIP code</th>\n",
              "      <th>Tags</th>\n",
              "      <th>Consumer consent provided?</th>\n",
              "      <th>Submitted via</th>\n",
              "      <th>Date sent to company</th>\n",
              "      <th>Company response to consumer</th>\n",
              "      <th>Timely response?</th>\n",
              "      <th>Consumer disputed?</th>\n",
              "      <th>Complaint ID</th>\n",
              "    </tr>\n",
              "  </thead>\n",
              "  <tbody>\n",
              "    <tr>\n",
              "      <th>0</th>\n",
              "      <td>07/17/2019</td>\n",
              "      <td>Credit reporting, credit repair services, or o...</td>\n",
              "      <td>Credit reporting</td>\n",
              "      <td>Incorrect information on your report</td>\n",
              "      <td>Account status incorrect</td>\n",
              "      <td>NaN</td>\n",
              "      <td>NaN</td>\n",
              "      <td>ALLY FINANCIAL INC.</td>\n",
              "      <td>TX</td>\n",
              "      <td>75035</td>\n",
              "      <td>NaN</td>\n",
              "      <td>NaN</td>\n",
              "      <td>Web</td>\n",
              "      <td>07/17/2019</td>\n",
              "      <td>In progress</td>\n",
              "      <td>Yes</td>\n",
              "      <td>NaN</td>\n",
              "      <td>3309495</td>\n",
              "    </tr>\n",
              "    <tr>\n",
              "      <th>1</th>\n",
              "      <td>07/17/2019</td>\n",
              "      <td>Credit card or prepaid card</td>\n",
              "      <td>General-purpose prepaid card</td>\n",
              "      <td>Trouble using the card</td>\n",
              "      <td>Problem using the card to withdraw money from ...</td>\n",
              "      <td>NaN</td>\n",
              "      <td>NaN</td>\n",
              "      <td>SQUARE INC</td>\n",
              "      <td>KS</td>\n",
              "      <td>674XX</td>\n",
              "      <td>NaN</td>\n",
              "      <td>NaN</td>\n",
              "      <td>Web</td>\n",
              "      <td>07/17/2019</td>\n",
              "      <td>In progress</td>\n",
              "      <td>Yes</td>\n",
              "      <td>NaN</td>\n",
              "      <td>3310031</td>\n",
              "    </tr>\n",
              "    <tr>\n",
              "      <th>2</th>\n",
              "      <td>07/17/2019</td>\n",
              "      <td>Debt collection</td>\n",
              "      <td>Other debt</td>\n",
              "      <td>Took or threatened to take negative or legal a...</td>\n",
              "      <td>Threatened or suggested your credit would be d...</td>\n",
              "      <td>NaN</td>\n",
              "      <td>NaN</td>\n",
              "      <td>Diversified Consultants, Inc.</td>\n",
              "      <td>FL</td>\n",
              "      <td>NaN</td>\n",
              "      <td>NaN</td>\n",
              "      <td>NaN</td>\n",
              "      <td>Web</td>\n",
              "      <td>07/17/2019</td>\n",
              "      <td>In progress</td>\n",
              "      <td>Yes</td>\n",
              "      <td>NaN</td>\n",
              "      <td>3309687</td>\n",
              "    </tr>\n",
              "    <tr>\n",
              "      <th>3</th>\n",
              "      <td>07/17/2019</td>\n",
              "      <td>Mortgage</td>\n",
              "      <td>VA mortgage</td>\n",
              "      <td>Trouble during payment process</td>\n",
              "      <td>NaN</td>\n",
              "      <td>NaN</td>\n",
              "      <td>NaN</td>\n",
              "      <td>FLAGSTAR BANK, FSB</td>\n",
              "      <td>VA</td>\n",
              "      <td>22554</td>\n",
              "      <td>Servicemember</td>\n",
              "      <td>NaN</td>\n",
              "      <td>Web</td>\n",
              "      <td>07/17/2019</td>\n",
              "      <td>In progress</td>\n",
              "      <td>Yes</td>\n",
              "      <td>NaN</td>\n",
              "      <td>3308925</td>\n",
              "    </tr>\n",
              "    <tr>\n",
              "      <th>4</th>\n",
              "      <td>07/17/2019</td>\n",
              "      <td>Debt collection</td>\n",
              "      <td>Other debt</td>\n",
              "      <td>Attempts to collect debt not owed</td>\n",
              "      <td>Debt is not yours</td>\n",
              "      <td>NaN</td>\n",
              "      <td>Company believes it acted appropriately as aut...</td>\n",
              "      <td>BYL Collection Services</td>\n",
              "      <td>TN</td>\n",
              "      <td>370XX</td>\n",
              "      <td>Servicemember</td>\n",
              "      <td>NaN</td>\n",
              "      <td>Web</td>\n",
              "      <td>07/17/2019</td>\n",
              "      <td>Closed with explanation</td>\n",
              "      <td>Yes</td>\n",
              "      <td>NaN</td>\n",
              "      <td>3308914</td>\n",
              "    </tr>\n",
              "  </tbody>\n",
              "</table>\n",
              "</div>"
            ],
            "text/plain": [
              "  Date received  ... Complaint ID\n",
              "0    07/17/2019  ...      3309495\n",
              "1    07/17/2019  ...      3310031\n",
              "2    07/17/2019  ...      3309687\n",
              "3    07/17/2019  ...      3308925\n",
              "4    07/17/2019  ...      3308914\n",
              "\n",
              "[5 rows x 18 columns]"
            ]
          },
          "metadata": {
            "tags": []
          },
          "execution_count": 3
        }
      ]
    },
    {
      "cell_type": "code",
      "metadata": {
        "id": "FV42YgOBw7P0"
      },
      "source": [
        "df1 = df[['Product','Consumer complaint narrative']]"
      ],
      "execution_count": null,
      "outputs": []
    },
    {
      "cell_type": "code",
      "metadata": {
        "colab": {
          "base_uri": "https://localhost:8080/"
        },
        "id": "puAqJ_L6xA2B",
        "outputId": "708f6e80-47ef-43bf-cbeb-a944959719cb"
      },
      "source": [
        "df1['Product'].value_counts()"
      ],
      "execution_count": null,
      "outputs": [
        {
          "output_type": "execute_result",
          "data": {
            "text/plain": [
              "Mortgage                                                                        282345\n",
              "Debt collection                                                                 253853\n",
              "Credit reporting, credit repair services, or other personal consumer reports    252092\n",
              "Credit reporting                                                                140432\n",
              "Credit card                                                                      89190\n",
              "Bank account or service                                                          86206\n",
              "Student loan                                                                     52889\n",
              "Credit card or prepaid card                                                      52468\n",
              "Checking or savings account                                                      45000\n",
              "Consumer Loan                                                                    31604\n",
              "Vehicle loan or lease                                                            12408\n",
              "Money transfer, virtual currency, or money service                               11184\n",
              "Payday loan, title loan, or personal loan                                         9411\n",
              "Payday loan                                                                       5544\n",
              "Money transfers                                                                   5354\n",
              "Prepaid card                                                                      3819\n",
              "Other financial service                                                           1059\n",
              "Virtual currency                                                                    18\n",
              "Name: Product, dtype: int64"
            ]
          },
          "metadata": {
            "tags": []
          },
          "execution_count": 5
        }
      ]
    },
    {
      "cell_type": "code",
      "metadata": {
        "colab": {
          "base_uri": "https://localhost:8080/"
        },
        "id": "IFQDSewjxEkW",
        "outputId": "3d5af74e-abf8-4f96-f1a5-c7423c5e07e2"
      },
      "source": [
        "df1['Product'] = df1['Product'].str.lower()"
      ],
      "execution_count": null,
      "outputs": [
        {
          "output_type": "stream",
          "text": [
            "/usr/local/lib/python3.6/dist-packages/ipykernel_launcher.py:1: SettingWithCopyWarning: \n",
            "A value is trying to be set on a copy of a slice from a DataFrame.\n",
            "Try using .loc[row_indexer,col_indexer] = value instead\n",
            "\n",
            "See the caveats in the documentation: https://pandas.pydata.org/pandas-docs/stable/user_guide/indexing.html#returning-a-view-versus-a-copy\n",
            "  \"\"\"Entry point for launching an IPython kernel.\n"
          ],
          "name": "stderr"
        }
      ]
    },
    {
      "cell_type": "code",
      "metadata": {
        "colab": {
          "base_uri": "https://localhost:8080/"
        },
        "id": "9ZBXJ7yyxyzg",
        "outputId": "e7269bdd-c414-45b7-fa9c-6d083e3a535c"
      },
      "source": [
        "df1.isnull().sum()"
      ],
      "execution_count": null,
      "outputs": [
        {
          "output_type": "execute_result",
          "data": {
            "text/plain": [
              "Product                              0\n",
              "Consumer complaint narrative    938347\n",
              "dtype: int64"
            ]
          },
          "metadata": {
            "tags": []
          },
          "execution_count": 7
        }
      ]
    },
    {
      "cell_type": "code",
      "metadata": {
        "colab": {
          "base_uri": "https://localhost:8080/"
        },
        "id": "ZOCXfDl-Z71f",
        "outputId": "e9438a3c-a628-4fea-abc9-e50eec24f79d"
      },
      "source": [
        "df1.shape"
      ],
      "execution_count": null,
      "outputs": [
        {
          "output_type": "execute_result",
          "data": {
            "text/plain": [
              "(1334876, 2)"
            ]
          },
          "metadata": {
            "tags": []
          },
          "execution_count": 8
        }
      ]
    },
    {
      "cell_type": "code",
      "metadata": {
        "id": "PaEWi1Sfx1El"
      },
      "source": [
        "df1= df1.dropna()"
      ],
      "execution_count": null,
      "outputs": []
    },
    {
      "cell_type": "code",
      "metadata": {
        "id": "9H7ZySGSx6A6"
      },
      "source": [
        "def renaming(x):\n",
        "   #print(x)\n",
        "   if x =='credit reporting':\n",
        "        x = 'credit reporting, credit repair services, or other personal consumer reports'\n",
        "   elif x == 'credit card':\n",
        "        x = 'credit card or prepaid card'\n",
        "   elif x == 'virtual currency':\n",
        "        x = 'money transfer, virtual currency, or money service'\n",
        "   elif x == 'prepaid card':\n",
        "        x = 'credit card or prepaid card'\n",
        "   elif x == 'money transfers':\n",
        "        x = 'money transfer, virtual currency, or money service'\n",
        "   elif x == 'student loan': \n",
        "        x='Loans'\n",
        "   elif x=='consumer loan': \n",
        "        x='Loans'\n",
        "   elif x=='payday loan': \n",
        "        x='Loans'\n",
        "   elif x=='checking or savings account': \n",
        "        x='bank account or service'\n",
        "   elif x=='payday loan, title loan, or personal loan': \n",
        "        x='Loans'\n",
        "   elif x=='vehicle loan or lease': \n",
        "        x='Loans'\n",
        "   return x"
      ],
      "execution_count": null,
      "outputs": []
    },
    {
      "cell_type": "code",
      "metadata": {
        "id": "F4Hb6PLIx8ZJ"
      },
      "source": [
        "df1['Product'] = df1['Product'].apply(renaming)"
      ],
      "execution_count": null,
      "outputs": []
    },
    {
      "cell_type": "code",
      "metadata": {
        "colab": {
          "base_uri": "https://localhost:8080/"
        },
        "id": "vPX49m3mbWMt",
        "outputId": "987e8ec6-87b3-4ee9-eeb9-6d345155e2a6"
      },
      "source": [
        "df1['Product'].value_counts()"
      ],
      "execution_count": null,
      "outputs": [
        {
          "output_type": "execute_result",
          "data": {
            "text/plain": [
              "credit reporting, credit repair services, or other personal consumer reports    129418\n",
              "debt collection                                                                  89379\n",
              "mortgage                                                                         54109\n",
              "Loans                                                                            44409\n",
              "credit card or prepaid card                                                      43103\n",
              "bank account or service                                                          28554\n",
              "money transfer, virtual currency, or money service                                7265\n",
              "other financial service                                                            292\n",
              "Name: Product, dtype: int64"
            ]
          },
          "metadata": {
            "tags": []
          },
          "execution_count": 12
        }
      ]
    },
    {
      "cell_type": "code",
      "metadata": {
        "id": "YmvTJ1A6x-5c"
      },
      "source": [
        "from sklearn.preprocessing import LabelEncoder\n",
        "le = LabelEncoder()\n",
        "df1['Product'] = le.fit_transform(df1['Product'])"
      ],
      "execution_count": null,
      "outputs": []
    },
    {
      "cell_type": "code",
      "metadata": {
        "colab": {
          "base_uri": "https://localhost:8080/"
        },
        "id": "qPrUMI1HbpC1",
        "outputId": "2cd16194-5082-4018-867f-d0a2d012ee73"
      },
      "source": [
        "value_counts = df1['Product'].value_counts()\n",
        "value_counts"
      ],
      "execution_count": null,
      "outputs": [
        {
          "output_type": "execute_result",
          "data": {
            "text/plain": [
              "3    129418\n",
              "4     89379\n",
              "6     54109\n",
              "0     44409\n",
              "2     43103\n",
              "1     28554\n",
              "5      7265\n",
              "7       292\n",
              "Name: Product, dtype: int64"
            ]
          },
          "metadata": {
            "tags": []
          },
          "execution_count": 14
        }
      ]
    },
    {
      "cell_type": "code",
      "metadata": {
        "id": "LhFL8I7QyBB2",
        "colab": {
          "base_uri": "https://localhost:8080/"
        },
        "outputId": "680b9236-92ba-4f2f-e223-cc9f9321bc6b"
      },
      "source": [
        "df1 = df1[~df1['Product'].isin(value_counts[value_counts<10000].index)]\n",
        "df1['Product'].value_counts()"
      ],
      "execution_count": null,
      "outputs": [
        {
          "output_type": "execute_result",
          "data": {
            "text/plain": [
              "3    129418\n",
              "4     89379\n",
              "6     54109\n",
              "0     44409\n",
              "2     43103\n",
              "1     28554\n",
              "Name: Product, dtype: int64"
            ]
          },
          "metadata": {
            "tags": []
          },
          "execution_count": 15
        }
      ]
    },
    {
      "cell_type": "code",
      "metadata": {
        "id": "wtFbAXB2yDC1"
      },
      "source": [
        "from string import punctuation\n",
        "from nltk.corpus import stopwords\n",
        "stuff_to_be_removed = list(stopwords.words('english'))+list(punctuation)\n",
        "from nltk.tokenize import word_tokenize\n",
        "from nltk.stem import LancasterStemmer\n",
        "stemmer = LancasterStemmer()\n",
        "corpus = df1['Consumer complaint narrative'].tolist()\n",
        "len(corpus)\n",
        "corpus = corpus[1:10000]"
      ],
      "execution_count": null,
      "outputs": []
    },
    {
      "cell_type": "code",
      "metadata": {
        "id": "Sf2j4_Q2yFAt"
      },
      "source": [
        "final_corpus = []\n",
        "for i in range(len(corpus)):\n",
        "  word = word_tokenize(corpus[i].lower())\n",
        "  word = [stemmer.stem(y) for y in word if y not in stuff_to_be_removed]\n",
        "  j = \" \".join(word)\n",
        "  final_corpus.append(j)\n",
        "#final_corpus"
      ],
      "execution_count": null,
      "outputs": []
    },
    {
      "cell_type": "code",
      "metadata": {
        "id": "lvff_hmOyHGy",
        "colab": {
          "base_uri": "https://localhost:8080/",
          "height": 196
        },
        "outputId": "cc652b5c-8d31-4cdf-aa97-fa2126590c9c"
      },
      "source": [
        "product_list=df1['Product'].tolist()\n",
        "product_list=product_list[1:10000]\n",
        "newdf = pd.DataFrame(final_corpus)\n",
        "newdf['label'] = product_list\n",
        "newdf.columns=['sentence','label']\n",
        "newdf.head()"
      ],
      "execution_count": null,
      "outputs": [
        {
          "output_type": "execute_result",
          "data": {
            "text/html": [
              "<div>\n",
              "<style scoped>\n",
              "    .dataframe tbody tr th:only-of-type {\n",
              "        vertical-align: middle;\n",
              "    }\n",
              "\n",
              "    .dataframe tbody tr th {\n",
              "        vertical-align: top;\n",
              "    }\n",
              "\n",
              "    .dataframe thead th {\n",
              "        text-align: right;\n",
              "    }\n",
              "</style>\n",
              "<table border=\"1\" class=\"dataframe\">\n",
              "  <thead>\n",
              "    <tr style=\"text-align: right;\">\n",
              "      <th></th>\n",
              "      <th>sentence</th>\n",
              "      <th>label</th>\n",
              "    </tr>\n",
              "  </thead>\n",
              "  <tbody>\n",
              "    <tr>\n",
              "      <th>0</th>\n",
              "      <td>16000.00 debt</td>\n",
              "      <td>3</td>\n",
              "    </tr>\n",
              "    <tr>\n",
              "      <th>1</th>\n",
              "      <td>cal dont answ cal cal day long hav sign contac...</td>\n",
              "      <td>4</td>\n",
              "    </tr>\n",
              "    <tr>\n",
              "      <th>2</th>\n",
              "      <td>provid account inform show debt paid credit ka...</td>\n",
              "      <td>4</td>\n",
              "    </tr>\n",
              "    <tr>\n",
              "      <th>3</th>\n",
              "      <td>2 charg credit report collect ag `` trid asset...</td>\n",
              "      <td>4</td>\n",
              "    </tr>\n",
              "    <tr>\n",
              "      <th>4</th>\n",
              "      <td>xxxx xxxx xxxx xxxx post 3 collect account 3 c...</td>\n",
              "      <td>3</td>\n",
              "    </tr>\n",
              "  </tbody>\n",
              "</table>\n",
              "</div>"
            ],
            "text/plain": [
              "                                            sentence  label\n",
              "0                                      16000.00 debt      3\n",
              "1  cal dont answ cal cal day long hav sign contac...      4\n",
              "2  provid account inform show debt paid credit ka...      4\n",
              "3  2 charg credit report collect ag `` trid asset...      4\n",
              "4  xxxx xxxx xxxx xxxx post 3 collect account 3 c...      3"
            ]
          },
          "metadata": {
            "tags": []
          },
          "execution_count": 18
        }
      ]
    },
    {
      "cell_type": "code",
      "metadata": {
        "id": "qKI3MK_tyXfw",
        "colab": {
          "base_uri": "https://localhost:8080/"
        },
        "outputId": "f2456fa6-ccea-424e-dedd-9d447c6f5b69"
      },
      "source": [
        "from sklearn.feature_extraction.text import TfidfVectorizer\n",
        "tfidf = TfidfVectorizer()\n",
        "vector = tfidf.fit_transform(newdf['sentence'])\n",
        "x_train = vector.toarray()\n",
        "print(x_train)\n",
        "y_train= newdf['label']"
      ],
      "execution_count": null,
      "outputs": [
        {
          "output_type": "stream",
          "text": [
            "[[0.27715548 0.         0.         ... 0.         0.         0.        ]\n",
            " [0.         0.         0.         ... 0.         0.         0.        ]\n",
            " [0.20053722 0.         0.         ... 0.         0.         0.        ]\n",
            " ...\n",
            " [0.         0.         0.         ... 0.         0.         0.        ]\n",
            " [0.         0.         0.         ... 0.         0.         0.        ]\n",
            " [0.05226989 0.         0.         ... 0.         0.         0.        ]]\n"
          ],
          "name": "stdout"
        }
      ]
    },
    {
      "cell_type": "code",
      "metadata": {
        "id": "6BvgH3DLyaIy",
        "colab": {
          "base_uri": "https://localhost:8080/"
        },
        "outputId": "60e855b0-9789-4a37-de9f-6fe442e3d5f3"
      },
      "source": [
        "from sklearn.naive_bayes import MultinomialNB\n",
        "ab = MultinomialNB()\n",
        "ab.fit(x_train,y_train)\n",
        "ypred = ab.predict(x_train)\n",
        "from sklearn.metrics import accuracy_score,confusion_matrix,classification_report\n",
        "print(accuracy_score(y_train,ypred))\n",
        "print(confusion_matrix(y_train,ypred))\n",
        "print(classification_report(y_train,ypred))"
      ],
      "execution_count": null,
      "outputs": [
        {
          "output_type": "stream",
          "text": [
            "0.6338633863386338\n",
            "[[ 260    0    3  625  113    0]\n",
            " [   0   38   64  466   34    0]\n",
            " [   0    0  263  805   43    0]\n",
            " [   0    3    0 3971   73    1]\n",
            " [   3    0    3  833 1551    1]\n",
            " [   5    0    0  540   46  255]]\n",
            "              precision    recall  f1-score   support\n",
            "\n",
            "           0       0.97      0.26      0.41      1001\n",
            "           1       0.93      0.06      0.12       602\n",
            "           2       0.79      0.24      0.36      1111\n",
            "           3       0.55      0.98      0.70      4048\n",
            "           4       0.83      0.65      0.73      2391\n",
            "           6       0.99      0.30      0.46       846\n",
            "\n",
            "    accuracy                           0.63      9999\n",
            "   macro avg       0.84      0.42      0.46      9999\n",
            "weighted avg       0.75      0.63      0.59      9999\n",
            "\n"
          ],
          "name": "stdout"
        }
      ]
    },
    {
      "cell_type": "markdown",
      "metadata": {
        "id": "C3HOHUXI9TTy"
      },
      "source": [
        "SVM, Boosting, Forest (overfitting)"
      ]
    },
    {
      "cell_type": "code",
      "metadata": {
        "colab": {
          "base_uri": "https://localhost:8080/"
        },
        "id": "eS3DARPz9Yga",
        "outputId": "35ec2b66-4015-41a5-cec6-6098724d88aa"
      },
      "source": [
        "from sklearn.ensemble import RandomForestClassifier\n",
        "clf=RandomForestClassifier()\n",
        "clf.fit(x_train,y_train)\n",
        "y_pred=clf.predict(x_train)\n",
        "from sklearn.metrics import accuracy_score,confusion_matrix,classification_report\n",
        "print(accuracy_score(y_train,y_pred))\n",
        "print(confusion_matrix(y_train,y_pred))\n",
        "print(classification_report(y_train,y_pred))"
      ],
      "execution_count": null,
      "outputs": [
        {
          "output_type": "stream",
          "text": [
            "0.9997999799979999\n",
            "[[1000    0    1    0    0    0]\n",
            " [   0  602    0    0    0    0]\n",
            " [   0    0 1111    0    0    0]\n",
            " [   0    0    0 4048    0    0]\n",
            " [   0    0    0    0 2391    0]\n",
            " [   0    0    0    1    0  845]]\n",
            "              precision    recall  f1-score   support\n",
            "\n",
            "           0       1.00      1.00      1.00      1001\n",
            "           1       1.00      1.00      1.00       602\n",
            "           2       1.00      1.00      1.00      1111\n",
            "           3       1.00      1.00      1.00      4048\n",
            "           4       1.00      1.00      1.00      2391\n",
            "           6       1.00      1.00      1.00       846\n",
            "\n",
            "    accuracy                           1.00      9999\n",
            "   macro avg       1.00      1.00      1.00      9999\n",
            "weighted avg       1.00      1.00      1.00      9999\n",
            "\n"
          ],
          "name": "stdout"
        }
      ]
    },
    {
      "cell_type": "code",
      "metadata": {
        "colab": {
          "base_uri": "https://localhost:8080/"
        },
        "id": "1RYOZdJ7AwMR",
        "outputId": "dca00faa-6c04-4371-99e2-0ffbd08bfa88"
      },
      "source": [
        "from sklearn.svm import LinearSVC\n",
        "svc = LinearSVC().fit(x_train,y_train)\n",
        "y_pred = svc.predict(x_train)\n",
        "from sklearn.metrics import accuracy_score,confusion_matrix,classification_report\n",
        "print(accuracy_score(y_train,y_pred))\n",
        "print(confusion_matrix(y_train,y_pred))\n",
        "print(classification_report(y_train,y_pred))"
      ],
      "execution_count": null,
      "outputs": [
        {
          "output_type": "stream",
          "text": [
            "0.9541954195419542\n",
            "[[ 934    1    6   33   27    0]\n",
            " [   0  593    7    2    0    0]\n",
            " [   1    9 1052   32   17    0]\n",
            " [  19    3   18 3891  107   10]\n",
            " [  24    3   12  101 2241   10]\n",
            " [   2    1    2   10    1  830]]\n",
            "              precision    recall  f1-score   support\n",
            "\n",
            "           0       0.95      0.93      0.94      1001\n",
            "           1       0.97      0.99      0.98       602\n",
            "           2       0.96      0.95      0.95      1111\n",
            "           3       0.96      0.96      0.96      4048\n",
            "           4       0.94      0.94      0.94      2391\n",
            "           6       0.98      0.98      0.98       846\n",
            "\n",
            "    accuracy                           0.95      9999\n",
            "   macro avg       0.96      0.96      0.96      9999\n",
            "weighted avg       0.95      0.95      0.95      9999\n",
            "\n"
          ],
          "name": "stdout"
        }
      ]
    },
    {
      "cell_type": "code",
      "metadata": {
        "id": "KCDld0MjCQm4",
        "colab": {
          "base_uri": "https://localhost:8080/"
        },
        "outputId": "222b39b9-a23f-41fe-c412-2f52d57d09dd"
      },
      "source": [
        "import lightgbm as lgb \n",
        "clf = lgb.LGBMClassifier()\n",
        "clf.fit(x_train, y_train)  \n",
        "y_pred = clf.predict(x_train)\n",
        "from sklearn.metrics import accuracy_score,confusion_matrix,classification_report\n",
        "print(accuracy_score(y_train,y_pred))\n",
        "print(confusion_matrix(y_train,y_pred))\n",
        "print(classification_report(y_train,y_pred))"
      ],
      "execution_count": null,
      "outputs": [
        {
          "output_type": "stream",
          "text": [
            "0.9778977897789779\n",
            "[[ 979    0    3   10    9    0]\n",
            " [   0  600    0    1    1    0]\n",
            " [   0    0 1077   24   10    0]\n",
            " [   7    0    3 3976   62    0]\n",
            " [   5    0    8   75 2302    1]\n",
            " [   0    0    1    1    0  844]]\n",
            "              precision    recall  f1-score   support\n",
            "\n",
            "           0       0.99      0.98      0.98      1001\n",
            "           1       1.00      1.00      1.00       602\n",
            "           2       0.99      0.97      0.98      1111\n",
            "           3       0.97      0.98      0.98      4048\n",
            "           4       0.97      0.96      0.96      2391\n",
            "           6       1.00      1.00      1.00       846\n",
            "\n",
            "    accuracy                           0.98      9999\n",
            "   macro avg       0.99      0.98      0.98      9999\n",
            "weighted avg       0.98      0.98      0.98      9999\n",
            "\n"
          ],
          "name": "stdout"
        }
      ]
    },
    {
      "cell_type": "markdown",
      "metadata": {
        "id": "dmeo7_5-CRCQ"
      },
      "source": [
        "try lametization, use other features"
      ]
    }
  ]
}