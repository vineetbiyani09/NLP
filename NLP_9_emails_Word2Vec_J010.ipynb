{
  "nbformat": 4,
  "nbformat_minor": 0,
  "metadata": {
    "colab": {
      "name": "NLP_9_emails_Word2Vec_J010.ipynb",
      "provenance": [],
      "collapsed_sections": [],
      "include_colab_link": true
    },
    "kernelspec": {
      "display_name": "Python 3",
      "name": "python3"
    }
  },
  "cells": [
    {
      "cell_type": "markdown",
      "metadata": {
        "id": "view-in-github",
        "colab_type": "text"
      },
      "source": [
        "<a href=\"https://colab.research.google.com/github/vineetbiyani09/NLP/blob/master/NLP_9_emails_Word2Vec_J010.ipynb\" target=\"_parent\"><img src=\"https://colab.research.google.com/assets/colab-badge.svg\" alt=\"Open In Colab\"/></a>"
      ]
    },
    {
      "cell_type": "code",
      "metadata": {
        "id": "BfFc2EQiOYlf"
      },
      "source": [
        "\n",
        "from gensim.models import Word2Vec\n",
        "import pandas as pd\n",
        "import re\n",
        "\n",
        "from sklearn.decomposition import PCA\n",
        "\n",
        "from matplotlib import pyplot as plt\n",
        "import plotly.graph_objects as go\n",
        "\n",
        "import numpy as np\n",
        "\n",
        "import warnings\n",
        "warnings.filterwarnings('ignore')"
      ],
      "execution_count": null,
      "outputs": []
    },
    {
      "cell_type": "code",
      "metadata": {
        "id": "4_x2xS5VQmC_"
      },
      "source": [
        "sentences = [['i', 'like', 'apple', 'pie', 'for', 'dessert'],\n",
        "            ['i', 'dont', 'drive', 'fast', 'cars'],\n",
        "            ['data', 'science', 'is', 'fun'],\n",
        "            ['chocolate', 'is', 'my', 'favorite'],\n",
        "            ['my', 'favorite', 'movie', 'is', 'predator']]"
      ],
      "execution_count": null,
      "outputs": []
    },
    {
      "cell_type": "code",
      "metadata": {
        "colab": {
          "base_uri": "https://localhost:8080/"
        },
        "id": "t3fzs1jvQufw",
        "outputId": "c848b9a9-4ff8-4ff7-c61a-7e68f7d6e697"
      },
      "source": [
        "\n",
        "# train word2vec model\n",
        "w2v = Word2Vec(sentences, min_count=1, size = 5)\n",
        "print(w2v)\n"
      ],
      "execution_count": null,
      "outputs": [
        {
          "output_type": "stream",
          "text": [
            "Word2Vec(vocab=19, size=5, alpha=0.025)\n"
          ],
          "name": "stdout"
        }
      ]
    },
    {
      "cell_type": "code",
      "metadata": {
        "colab": {
          "base_uri": "https://localhost:8080/"
        },
        "id": "600qR1UwQxGF",
        "outputId": "6bf2c750-4201-4d91-e36b-47c623d5be19"
      },
      "source": [
        "# summarize vocabulary\n",
        "words1 = list(w2v.wv.vocab)\n",
        "print(words1)\n",
        "w2v.wv.vocab"
      ],
      "execution_count": null,
      "outputs": [
        {
          "output_type": "stream",
          "text": [
            "['i', 'like', 'apple', 'pie', 'for', 'dessert', 'dont', 'drive', 'fast', 'cars', 'data', 'science', 'is', 'fun', 'chocolate', 'my', 'favorite', 'movie', 'predator']\n"
          ],
          "name": "stdout"
        },
        {
          "output_type": "execute_result",
          "data": {
            "text/plain": [
              "{'apple': <gensim.models.keyedvectors.Vocab at 0x7f86b5187ad0>,\n",
              " 'cars': <gensim.models.keyedvectors.Vocab at 0x7f86b5187bd0>,\n",
              " 'chocolate': <gensim.models.keyedvectors.Vocab at 0x7f86b5187dd0>,\n",
              " 'data': <gensim.models.keyedvectors.Vocab at 0x7f86b5187cd0>,\n",
              " 'dessert': <gensim.models.keyedvectors.Vocab at 0x7f86b5187c10>,\n",
              " 'dont': <gensim.models.keyedvectors.Vocab at 0x7f86b5187c50>,\n",
              " 'drive': <gensim.models.keyedvectors.Vocab at 0x7f86b5187c90>,\n",
              " 'fast': <gensim.models.keyedvectors.Vocab at 0x7f86b5187b50>,\n",
              " 'favorite': <gensim.models.keyedvectors.Vocab at 0x7f86b5187e50>,\n",
              " 'for': <gensim.models.keyedvectors.Vocab at 0x7f86b5187b90>,\n",
              " 'fun': <gensim.models.keyedvectors.Vocab at 0x7f86b5187d90>,\n",
              " 'i': <gensim.models.keyedvectors.Vocab at 0x7f86b5187a50>,\n",
              " 'is': <gensim.models.keyedvectors.Vocab at 0x7f86b5187d50>,\n",
              " 'like': <gensim.models.keyedvectors.Vocab at 0x7f86b5187a90>,\n",
              " 'movie': <gensim.models.keyedvectors.Vocab at 0x7f86b5187e90>,\n",
              " 'my': <gensim.models.keyedvectors.Vocab at 0x7f86b5187e10>,\n",
              " 'pie': <gensim.models.keyedvectors.Vocab at 0x7f86b5187b10>,\n",
              " 'predator': <gensim.models.keyedvectors.Vocab at 0x7f86b5187ed0>,\n",
              " 'science': <gensim.models.keyedvectors.Vocab at 0x7f86b5187d10>}"
            ]
          },
          "metadata": {
            "tags": []
          },
          "execution_count": 4
        }
      ]
    },
    {
      "cell_type": "code",
      "metadata": {
        "colab": {
          "base_uri": "https://localhost:8080/"
        },
        "id": "tKIT7rQ4Q0wM",
        "outputId": "ba5b46a3-df1e-4430-e478-6258ec5058e6"
      },
      "source": [
        "# access vector for one word\n",
        "print(w2v['chocolate'])\n"
      ],
      "execution_count": null,
      "outputs": [
        {
          "output_type": "stream",
          "text": [
            "[ 0.06782705 -0.03842463 -0.03979376  0.02236286 -0.04641231]\n"
          ],
          "name": "stdout"
        }
      ]
    },
    {
      "cell_type": "code",
      "metadata": {
        "colab": {
          "base_uri": "https://localhost:8080/",
          "height": 265
        },
        "id": "eqdzs7BQQ8rl",
        "outputId": "ad684678-fe49-463c-fc44-fba403bde15c"
      },
      "source": [
        "X = w2v[w2v.wv.vocab]\n",
        "pca = PCA(n_components=2)\n",
        "\n",
        "result = pca.fit_transform(X)\n",
        "\n",
        "# create a scatter plot of the projection\n",
        "plt.scatter(result[:, 0], result[:, 1])\n",
        "words = list(w2v.wv.vocab)\n",
        "\n",
        "for i, word in enumerate(words):\n",
        "    plt.annotate(word, xy=(result[i, 0], result[i, 1]))\n",
        "\n",
        "plt.show()"
      ],
      "execution_count": null,
      "outputs": [
        {
          "output_type": "display_data",
          "data": {
            "image/png": "[encoded data removed]",
            "text/plain": [
              "<Figure size 432x288 with 1 Axes>"
            ]
          },
          "metadata": {
            "tags": []
          }
        }
      ]
    },
    {
      "cell_type": "code",
      "metadata": {
        "id": "tBrkacIYRDMZ"
      },
      "source": [
        "# import matplotlib.pyplot as plt\n",
        "# X = ft[ft.wv.vocab]\n",
        "# pca = PCA(n_components=2)\n",
        "\n",
        "# result = pca.fit_transform(X)\n",
        "\n",
        "# # create a scatter plot of the projection\n",
        "# plt.scatter(result[:, 0], result[:, 1])\n",
        "# words = list(ft.wv.vocab)\n",
        "\n",
        "# for i, word in enumerate(words):\n",
        "#     plt.annotate(word, xy=(result[i, 0], result[i, 1]))\n",
        "\n",
        "# plt.show()"
      ],
      "execution_count": null,
      "outputs": []
    },
    {
      "cell_type": "code",
      "metadata": {
        "colab": {
          "base_uri": "https://localhost:8080/"
        },
        "id": "7XyAlOqW-q4x",
        "outputId": "73661f8b-3cfe-44d8-e03b-20813734b8e4"
      },
      "source": [
        "from google.colab import drive\n",
        "drive.mount('/content/drive')"
      ],
      "execution_count": null,
      "outputs": [
        {
          "output_type": "stream",
          "text": [
            "Mounted at /content/drive\n"
          ],
          "name": "stdout"
        }
      ]
    },
    {
      "cell_type": "code",
      "metadata": {
        "colab": {
          "base_uri": "https://localhost:8080/",
          "height": 196
        },
        "id": "DOq6W-bH-scv",
        "outputId": "382eac8a-1ce9-4d89-bbea-69aee2221049"
      },
      "source": [
        "df = pd.read_csv('/content/drive/My Drive/emails.csv')\n",
        "df.head()\n"
      ],
      "execution_count": null,
      "outputs": [
        {
          "output_type": "execute_result",
          "data": {
            "text/html": [
              "<div>\n",
              "<style scoped>\n",
              "    .dataframe tbody tr th:only-of-type {\n",
              "        vertical-align: middle;\n",
              "    }\n",
              "\n",
              "    .dataframe tbody tr th {\n",
              "        vertical-align: top;\n",
              "    }\n",
              "\n",
              "    .dataframe thead th {\n",
              "        text-align: right;\n",
              "    }\n",
              "</style>\n",
              "<table border=\"1\" class=\"dataframe\">\n",
              "  <thead>\n",
              "    <tr style=\"text-align: right;\">\n",
              "      <th></th>\n",
              "      <th>text</th>\n",
              "      <th>spam</th>\n",
              "    </tr>\n",
              "  </thead>\n",
              "  <tbody>\n",
              "    <tr>\n",
              "      <th>0</th>\n",
              "      <td>Subject: naturally irresistible your corporate...</td>\n",
              "      <td>1</td>\n",
              "    </tr>\n",
              "    <tr>\n",
              "      <th>1</th>\n",
              "      <td>Subject: the stock trading gunslinger  fanny i...</td>\n",
              "      <td>1</td>\n",
              "    </tr>\n",
              "    <tr>\n",
              "      <th>2</th>\n",
              "      <td>Subject: unbelievable new homes made easy  im ...</td>\n",
              "      <td>1</td>\n",
              "    </tr>\n",
              "    <tr>\n",
              "      <th>3</th>\n",
              "      <td>Subject: 4 color printing special  request add...</td>\n",
              "      <td>1</td>\n",
              "    </tr>\n",
              "    <tr>\n",
              "      <th>4</th>\n",
              "      <td>Subject: do not have money , get software cds ...</td>\n",
              "      <td>1</td>\n",
              "    </tr>\n",
              "  </tbody>\n",
              "</table>\n",
              "</div>"
            ],
            "text/plain": [
              "                                                text  spam\n",
              "0  Subject: naturally irresistible your corporate...     1\n",
              "1  Subject: the stock trading gunslinger  fanny i...     1\n",
              "2  Subject: unbelievable new homes made easy  im ...     1\n",
              "3  Subject: 4 color printing special  request add...     1\n",
              "4  Subject: do not have money , get software cds ...     1"
            ]
          },
          "metadata": {
            "tags": []
          },
          "execution_count": 9
        }
      ]
    },
    {
      "cell_type": "code",
      "metadata": {
        "id": "QBvx_oY7gOo8"
      },
      "source": [
        "clean_txt = []\n",
        "for w in range(len(df.text)):\n",
        "    desc = df['text'][w].lower()\n",
        "    \n",
        "    #remove punctuation\n",
        "    desc = re.sub('[^a-zA-Z]', ' ', desc)\n",
        "    \n",
        "    #remove tags\n",
        "    desc=re.sub(\"&lt;/?.*?&gt;\",\" &lt;&gt; \",desc)\n",
        "    \n",
        "    #remove digits and special chars\n",
        "    desc=re.sub(\"(\\\\d|\\\\W)+\",\" \",desc)\n",
        "    clean_txt.append(desc)\n",
        "\n",
        "df['clean'] = clean_txt"
      ],
      "execution_count": null,
      "outputs": []
    },
    {
      "cell_type": "code",
      "metadata": {
        "colab": {
          "base_uri": "https://localhost:8080/",
          "height": 196
        },
        "id": "J7P3K7BvgTrJ",
        "outputId": "9f206883-0859-4e31-f15f-88fa112131c3"
      },
      "source": [
        "df.head()"
      ],
      "execution_count": null,
      "outputs": [
        {
          "output_type": "execute_result",
          "data": {
            "text/html": [
              "<div>\n",
              "<style scoped>\n",
              "    .dataframe tbody tr th:only-of-type {\n",
              "        vertical-align: middle;\n",
              "    }\n",
              "\n",
              "    .dataframe tbody tr th {\n",
              "        vertical-align: top;\n",
              "    }\n",
              "\n",
              "    .dataframe thead th {\n",
              "        text-align: right;\n",
              "    }\n",
              "</style>\n",
              "<table border=\"1\" class=\"dataframe\">\n",
              "  <thead>\n",
              "    <tr style=\"text-align: right;\">\n",
              "      <th></th>\n",
              "      <th>text</th>\n",
              "      <th>spam</th>\n",
              "      <th>clean</th>\n",
              "    </tr>\n",
              "  </thead>\n",
              "  <tbody>\n",
              "    <tr>\n",
              "      <th>0</th>\n",
              "      <td>Subject: naturally irresistible your corporate...</td>\n",
              "      <td>1</td>\n",
              "      <td>subject naturally irresistible your corporate ...</td>\n",
              "    </tr>\n",
              "    <tr>\n",
              "      <th>1</th>\n",
              "      <td>Subject: the stock trading gunslinger  fanny i...</td>\n",
              "      <td>1</td>\n",
              "      <td>subject the stock trading gunslinger fanny is ...</td>\n",
              "    </tr>\n",
              "    <tr>\n",
              "      <th>2</th>\n",
              "      <td>Subject: unbelievable new homes made easy  im ...</td>\n",
              "      <td>1</td>\n",
              "      <td>subject unbelievable new homes made easy im wa...</td>\n",
              "    </tr>\n",
              "    <tr>\n",
              "      <th>3</th>\n",
              "      <td>Subject: 4 color printing special  request add...</td>\n",
              "      <td>1</td>\n",
              "      <td>subject color printing special request additio...</td>\n",
              "    </tr>\n",
              "    <tr>\n",
              "      <th>4</th>\n",
              "      <td>Subject: do not have money , get software cds ...</td>\n",
              "      <td>1</td>\n",
              "      <td>subject do not have money get software cds fro...</td>\n",
              "    </tr>\n",
              "  </tbody>\n",
              "</table>\n",
              "</div>"
            ],
            "text/plain": [
              "                                                text  ...                                              clean\n",
              "0  Subject: naturally irresistible your corporate...  ...  subject naturally irresistible your corporate ...\n",
              "1  Subject: the stock trading gunslinger  fanny i...  ...  subject the stock trading gunslinger fanny is ...\n",
              "2  Subject: unbelievable new homes made easy  im ...  ...  subject unbelievable new homes made easy im wa...\n",
              "3  Subject: 4 color printing special  request add...  ...  subject color printing special request additio...\n",
              "4  Subject: do not have money , get software cds ...  ...  subject do not have money get software cds fro...\n",
              "\n",
              "[5 rows x 3 columns]"
            ]
          },
          "metadata": {
            "tags": []
          },
          "execution_count": 11
        }
      ]
    },
    {
      "cell_type": "code",
      "metadata": {
        "colab": {
          "base_uri": "https://localhost:8080/"
        },
        "id": "ku4UHHncgXXI",
        "outputId": "eacc21f3-efc0-4873-c7bc-565e69e1de4c"
      },
      "source": [
        "corpus = []\n",
        "for col in df.clean:\n",
        "    word_list = col.split(\" \")\n",
        "    corpus.append(word_list)\n",
        "corpus[0:1]"
      ],
      "execution_count": null,
      "outputs": [
        {
          "output_type": "execute_result",
          "data": {
            "text/plain": [
              "[['subject',\n",
              "  'naturally',\n",
              "  'irresistible',\n",
              "  'your',\n",
              "  'corporate',\n",
              "  'identity',\n",
              "  'lt',\n",
              "  'is',\n",
              "  'really',\n",
              "  'hard',\n",
              "  'to',\n",
              "  'recollect',\n",
              "  'a',\n",
              "  'company',\n",
              "  'the',\n",
              "  'market',\n",
              "  'is',\n",
              "  'full',\n",
              "  'of',\n",
              "  'suqgestions',\n",
              "  'and',\n",
              "  'the',\n",
              "  'information',\n",
              "  'isoverwhelminq',\n",
              "  'but',\n",
              "  'a',\n",
              "  'good',\n",
              "  'catchy',\n",
              "  'logo',\n",
              "  'stylish',\n",
              "  'statlonery',\n",
              "  'and',\n",
              "  'outstanding',\n",
              "  'website',\n",
              "  'will',\n",
              "  'make',\n",
              "  'the',\n",
              "  'task',\n",
              "  'much',\n",
              "  'easier',\n",
              "  'we',\n",
              "  'do',\n",
              "  'not',\n",
              "  'promise',\n",
              "  'that',\n",
              "  'havinq',\n",
              "  'ordered',\n",
              "  'a',\n",
              "  'iogo',\n",
              "  'your',\n",
              "  'company',\n",
              "  'will',\n",
              "  'automaticaily',\n",
              "  'become',\n",
              "  'a',\n",
              "  'world',\n",
              "  'ieader',\n",
              "  'it',\n",
              "  'isguite',\n",
              "  'ciear',\n",
              "  'that',\n",
              "  'without',\n",
              "  'good',\n",
              "  'products',\n",
              "  'effective',\n",
              "  'business',\n",
              "  'organization',\n",
              "  'and',\n",
              "  'practicable',\n",
              "  'aim',\n",
              "  'it',\n",
              "  'will',\n",
              "  'be',\n",
              "  'hotat',\n",
              "  'nowadays',\n",
              "  'market',\n",
              "  'but',\n",
              "  'we',\n",
              "  'do',\n",
              "  'promise',\n",
              "  'that',\n",
              "  'your',\n",
              "  'marketing',\n",
              "  'efforts',\n",
              "  'will',\n",
              "  'become',\n",
              "  'much',\n",
              "  'more',\n",
              "  'effective',\n",
              "  'here',\n",
              "  'is',\n",
              "  'the',\n",
              "  'list',\n",
              "  'of',\n",
              "  'clear',\n",
              "  'benefits',\n",
              "  'creativeness',\n",
              "  'hand',\n",
              "  'made',\n",
              "  'original',\n",
              "  'logos',\n",
              "  'specially',\n",
              "  'done',\n",
              "  'to',\n",
              "  'reflect',\n",
              "  'your',\n",
              "  'distinctive',\n",
              "  'company',\n",
              "  'image',\n",
              "  'convenience',\n",
              "  'logo',\n",
              "  'and',\n",
              "  'stationery',\n",
              "  'are',\n",
              "  'provided',\n",
              "  'in',\n",
              "  'all',\n",
              "  'formats',\n",
              "  'easy',\n",
              "  'to',\n",
              "  'use',\n",
              "  'content',\n",
              "  'management',\n",
              "  'system',\n",
              "  'letsyou',\n",
              "  'change',\n",
              "  'your',\n",
              "  'website',\n",
              "  'content',\n",
              "  'and',\n",
              "  'even',\n",
              "  'its',\n",
              "  'structure',\n",
              "  'promptness',\n",
              "  'you',\n",
              "  'will',\n",
              "  'see',\n",
              "  'logo',\n",
              "  'drafts',\n",
              "  'within',\n",
              "  'three',\n",
              "  'business',\n",
              "  'days',\n",
              "  'affordability',\n",
              "  'your',\n",
              "  'marketing',\n",
              "  'break',\n",
              "  'through',\n",
              "  'shouldn',\n",
              "  't',\n",
              "  'make',\n",
              "  'gaps',\n",
              "  'in',\n",
              "  'your',\n",
              "  'budget',\n",
              "  'satisfaction',\n",
              "  'guaranteed',\n",
              "  'we',\n",
              "  'provide',\n",
              "  'unlimited',\n",
              "  'amount',\n",
              "  'of',\n",
              "  'changes',\n",
              "  'with',\n",
              "  'no',\n",
              "  'extra',\n",
              "  'fees',\n",
              "  'for',\n",
              "  'you',\n",
              "  'to',\n",
              "  'be',\n",
              "  'surethat',\n",
              "  'you',\n",
              "  'will',\n",
              "  'love',\n",
              "  'the',\n",
              "  'result',\n",
              "  'of',\n",
              "  'this',\n",
              "  'collaboration',\n",
              "  'have',\n",
              "  'a',\n",
              "  'look',\n",
              "  'at',\n",
              "  'our',\n",
              "  'portfolio',\n",
              "  'not',\n",
              "  'interested',\n",
              "  '']]"
            ]
          },
          "metadata": {
            "tags": []
          },
          "execution_count": 12
        }
      ]
    },
    {
      "cell_type": "code",
      "metadata": {
        "id": "d0sF6aqBgbfM"
      },
      "source": [
        "model = Word2Vec(corpus, min_count=1, size = 56)"
      ],
      "execution_count": null,
      "outputs": []
    },
    {
      "cell_type": "code",
      "metadata": {
        "colab": {
          "base_uri": "https://localhost:8080/",
          "height": 265
        },
        "id": "SbCWCxyMge_Y",
        "outputId": "d537adaa-4bb8-45a3-b783-a943fdaa5384"
      },
      "source": [
        "X = model[model.wv.vocab]\n",
        "\n",
        "pca = PCA(n_components=2)\n",
        "\n",
        "result = pca.fit_transform(X)\n",
        "\n",
        "# create a scatter plot of the projection\n",
        "plt.scatter(result[:, 0], result[:, 1])\n",
        "words = list(model.wv.vocab)\n",
        "\n",
        "for i, word in enumerate(words):\n",
        "    plt.annotate(word, xy=(result[i, 0], result[i, 1]))\n",
        "\n",
        "plt.show()"
      ],
      "execution_count": null,
      "outputs": [
        {
          "output_type": "display_data",
          "data": {
            "image/png": "[encoded data removed]",
            "text/plain": [
              "<Figure size 432x288 with 1 Axes>"
            ]
          },
          "metadata": {
            "tags": []
          }
        }
      ]
    },
    {
      "cell_type": "code",
      "metadata": {
        "colab": {
          "base_uri": "https://localhost:8080/",
          "height": 196
        },
        "id": "gHVWLl13gjVK",
        "outputId": "3b6aee1b-beda-457d-cee6-5bcf2f1c0e59"
      },
      "source": [
        "X = model[model.wv.vocab]\n",
        "pca = PCA(n_components=2)\n",
        "result = pca.fit_transform(X)\n",
        "\n",
        "#create df from the pca results\n",
        "pca_df = pd.DataFrame(result, columns = ['x','y'])\n",
        "\n",
        "#add the words for the hover effect\n",
        "pca_df['word'] = words\n",
        "pca_df.head()"
      ],
      "execution_count": null,
      "outputs": [
        {
          "output_type": "execute_result",
          "data": {
            "text/html": [
              "<div>\n",
              "<style scoped>\n",
              "    .dataframe tbody tr th:only-of-type {\n",
              "        vertical-align: middle;\n",
              "    }\n",
              "\n",
              "    .dataframe tbody tr th {\n",
              "        vertical-align: top;\n",
              "    }\n",
              "\n",
              "    .dataframe thead th {\n",
              "        text-align: right;\n",
              "    }\n",
              "</style>\n",
              "<table border=\"1\" class=\"dataframe\">\n",
              "  <thead>\n",
              "    <tr style=\"text-align: right;\">\n",
              "      <th></th>\n",
              "      <th>x</th>\n",
              "      <th>y</th>\n",
              "      <th>word</th>\n",
              "    </tr>\n",
              "  </thead>\n",
              "  <tbody>\n",
              "    <tr>\n",
              "      <th>0</th>\n",
              "      <td>0.321016</td>\n",
              "      <td>2.459371</td>\n",
              "      <td>subject</td>\n",
              "    </tr>\n",
              "    <tr>\n",
              "      <th>1</th>\n",
              "      <td>0.251754</td>\n",
              "      <td>0.111045</td>\n",
              "      <td>naturally</td>\n",
              "    </tr>\n",
              "    <tr>\n",
              "      <th>2</th>\n",
              "      <td>-0.176125</td>\n",
              "      <td>-0.163997</td>\n",
              "      <td>irresistible</td>\n",
              "    </tr>\n",
              "    <tr>\n",
              "      <th>3</th>\n",
              "      <td>6.100686</td>\n",
              "      <td>-6.029081</td>\n",
              "      <td>your</td>\n",
              "    </tr>\n",
              "    <tr>\n",
              "      <th>4</th>\n",
              "      <td>2.370428</td>\n",
              "      <td>2.301035</td>\n",
              "      <td>corporate</td>\n",
              "    </tr>\n",
              "  </tbody>\n",
              "</table>\n",
              "</div>"
            ],
            "text/plain": [
              "          x         y          word\n",
              "0  0.321016  2.459371       subject\n",
              "1  0.251754  0.111045     naturally\n",
              "2 -0.176125 -0.163997  irresistible\n",
              "3  6.100686 -6.029081          your\n",
              "4  2.370428  2.301035     corporate"
            ]
          },
          "metadata": {
            "tags": []
          },
          "execution_count": 15
        }
      ]
    },
    {
      "cell_type": "code",
      "metadata": {
        "id": "P8DTkJL0gm5d"
      },
      "source": [
        "N = 1000000\n",
        "words = list(model.wv.vocab)\n",
        "fig = go.Figure(data=go.Scattergl(\n",
        "    x = pca_df['x'],\n",
        "    y = pca_df['y'],\n",
        "    mode='markers',\n",
        "    marker=dict(\n",
        "        color=np.random.randn(N),\n",
        "        colorscale='Viridis',\n",
        "        line_width=1\n",
        "    ),\n",
        "    text=pca_df['word'],\n",
        "    textposition=\"bottom center\"\n",
        "))\n",
        "\n",
        "fig.show()"
      ],
      "execution_count": null,
      "outputs": []
    },
    {
      "cell_type": "code",
      "metadata": {
        "colab": {
          "background_save": true
        },
        "id": "2EWbTNqegq7t",
        "outputId": "0cd3797f-f2b2-4e4b-b327-f4dc8ab33b5d"
      },
      "source": [
        "model.wv.most_similar('eric')"
      ],
      "execution_count": null,
      "outputs": [
        {
          "output_type": "execute_result",
          "data": {
            "text/plain": [
              "[('nelson', 0.9378228187561035),\n",
              " ('kenneth', 0.9220072031021118),\n",
              " ('lee', 0.9212491512298584),\n",
              " ('dave', 0.918833315372467),\n",
              " ('corey', 0.9118856191635132),\n",
              " ('oberg', 0.9086427688598633),\n",
              " ('woo', 0.9083635807037354),\n",
              " ('joe', 0.9077290892601013),\n",
              " ('bob', 0.9072172045707703),\n",
              " ('gadd', 0.9061684012413025)]"
            ]
          },
          "metadata": {
            "tags": []
          },
          "execution_count": 0
        }
      ]
    },
    {
      "cell_type": "code",
      "metadata": {
        "colab": {
          "background_save": true
        },
        "id": "Ug1Ri8fWgvuo",
        "outputId": "f55985af-2cbe-49b2-f871-ac1273c93d03"
      },
      "source": [
        "model.wv.most_similar('start')"
      ],
      "execution_count": null,
      "outputs": [
        {
          "output_type": "execute_result",
          "data": {
            "text/plain": [
              "[('try', 0.8065423369407654),\n",
              " ('sign', 0.8063201308250427),\n",
              " ('come', 0.7977481484413147),\n",
              " ('bring', 0.796528160572052),\n",
              " ('stay', 0.7879793643951416),\n",
              " ('move', 0.779120922088623),\n",
              " ('put', 0.7779364585876465),\n",
              " ('getting', 0.7752783298492432),\n",
              " ('take', 0.771009087562561),\n",
              " ('get', 0.7677476406097412)]"
            ]
          },
          "metadata": {
            "tags": []
          },
          "execution_count": 0
        }
      ]
    },
    {
      "cell_type": "code",
      "metadata": {
        "colab": {
          "background_save": true
        },
        "id": "M7Imq3ang25G",
        "outputId": "1817cc54-635f-4279-e1ed-00b21ac93759"
      },
      "source": [
        "model.wv.most_similar_cosmul(positive = ['phone', 'number'], negative = ['call'])"
      ],
      "execution_count": null,
      "outputs": [
        {
          "output_type": "execute_result",
          "data": {
            "text/plain": [
              "[('exclusivity', 1.0858776569366455),\n",
              " ('address', 1.0538607835769653),\n",
              " ('emarketer', 1.034356951713562),\n",
              " ('phonemail', 1.0244102478027344),\n",
              " ('cell', 1.0228484869003296),\n",
              " ('mtholyoke', 1.015142560005188),\n",
              " ('daytime', 1.0043160915374756),\n",
              " ('name', 0.9994606971740723),\n",
              " ('machine', 0.9972172975540161),\n",
              " ('cognizant', 0.9930146336555481)]"
            ]
          },
          "metadata": {
            "tags": []
          },
          "execution_count": 0
        }
      ]
    },
    {
      "cell_type": "code",
      "metadata": {
        "colab": {
          "background_save": true
        },
        "id": "OHjQQfSHg3pF",
        "outputId": "08a91396-f412-4cf9-b8c0-ad856c055426"
      },
      "source": [
        "model.wv.doesnt_match(\"phone number prison cell\".split())"
      ],
      "execution_count": null,
      "outputs": [
        {
          "output_type": "execute_result",
          "data": {
            "application/vnd.google.colaboratory.intrinsic+json": {
              "type": "string"
            },
            "text/plain": [
              "'prison'"
            ]
          },
          "metadata": {
            "tags": []
          },
          "execution_count": 0
        }
      ]
    },
    {
      "cell_type": "code",
      "metadata": {
        "colab": {
          "background_save": true
        },
        "id": "yBsZaMyRg8Zt"
      },
      "source": [
        "#save embeddings\n",
        "file = 'email_embd.txt'\n",
        "model.wv.save_word2vec_format(file, binary = False)"
      ],
      "execution_count": null,
      "outputs": []
    },
    {
      "cell_type": "code",
      "metadata": {
        "colab": {
          "background_save": true
        },
        "id": "Zd-2Hps3hBS8"
      },
      "source": [
        "import nltk\n",
        "\n",
        "class MyTokenizer:\n",
        "    def __init__(self):\n",
        "        pass\n",
        "    \n",
        "    def fit(self, X, y=None):\n",
        "        return self\n",
        "    \n",
        "    def transform(self, X):\n",
        "        transformed_X = []\n",
        "        for document in X:\n",
        "            tokenized_doc = []\n",
        "            for sent in nltk.sent_tokenize(document):\n",
        "                tokenized_doc += nltk.word_tokenize(sent)\n",
        "            transformed_X.append(np.array(tokenized_doc))\n",
        "        return np.array(transformed_X)\n",
        "    \n",
        "    def fit_transform(self, X, y=None):\n",
        "        return self.transform(X)\n",
        "\n",
        "class MeanEmbeddingVectorizer(object):\n",
        "    def __init__(self, word2vec):\n",
        "        self.word2vec = word2vec\n",
        "        # if a text is empty we should return a vector of zeros\n",
        "        # with the same dimensionality as all the other vectors\n",
        "        self.dim = len(word2vec.wv.syn0[0])\n",
        "\n",
        "    def fit(self, X, y=None):\n",
        "        return self\n",
        "\n",
        "    def transform(self, X):\n",
        "        X = MyTokenizer().fit_transform(X)\n",
        "        \n",
        "        return np.array([\n",
        "            np.mean([self.word2vec.wv[w] for w in words if w in self.word2vec.wv]\n",
        "                    or [np.zeros(self.dim)], axis=0)\n",
        "            for words in X\n",
        "        ])\n",
        "    \n",
        "    def fit_transform(self, X, y=None):\n",
        "        return self.transform(X)"
      ],
      "execution_count": null,
      "outputs": []
    },
    {
      "cell_type": "code",
      "metadata": {
        "colab": {
          "background_save": true
        },
        "id": "ATE0Tz1uhrSH",
        "outputId": "38c702ae-9d01-4db4-fd8b-b851a4e6b6a8"
      },
      "source": [
        "nltk.download('punkt')\n",
        "mean_embedding_vectorizer = MeanEmbeddingVectorizer(model)\n",
        "mean_embedded = mean_embedding_vectorizer.fit_transform(df['clean'])\n"
      ],
      "execution_count": null,
      "outputs": [
        {
          "output_type": "stream",
          "text": [
            "[nltk_data] Downloading package punkt to /root/nltk_data...\n",
            "[nltk_data]   Unzipping tokenizers/punkt.zip.\n"
          ],
          "name": "stdout"
        }
      ]
    },
    {
      "cell_type": "code",
      "metadata": {
        "colab": {
          "background_save": true
        },
        "id": "N2c9L7_jhm-2",
        "outputId": "16c1fbee-19b6-4065-b25a-d3f7f46fc9e7"
      },
      "source": [
        "mean_embedded[0]"
      ],
      "execution_count": null,
      "outputs": [
        {
          "output_type": "execute_result",
          "data": {
            "text/plain": [
              "array([ 0.21176162, -0.34203157,  1.2826957 , -0.8068269 , -0.8316661 ,\n",
              "       -0.03515909,  0.11728024, -0.16277163, -0.8255573 , -0.12051164,\n",
              "        0.6129306 ,  0.47823128, -0.2399229 ,  0.9223644 , -1.4513757 ,\n",
              "       -0.71021044, -1.2829077 , -1.0780057 ,  1.226163  , -0.395847  ,\n",
              "        0.0690077 , -0.7470191 , -0.5676103 ,  0.5400749 ,  0.56280506,\n",
              "        0.55272484, -0.62960213,  0.66874796,  0.47662285, -0.21996373,\n",
              "       -0.44754103,  0.5821144 ,  0.05115377, -0.75659406, -0.35832134,\n",
              "       -0.6396286 , -0.3641439 ,  0.02082095, -0.94558185,  0.02181058,\n",
              "       -1.5304791 , -0.24670877, -0.18566222, -0.3262796 , -0.43497062,\n",
              "       -0.33961508,  0.03009694, -0.3080494 ,  0.272531  , -0.22246312,\n",
              "        0.13830653,  0.13107796, -0.17101613,  0.27076894, -0.75824577,\n",
              "        0.504922  ], dtype=float32)"
            ]
          },
          "metadata": {
            "tags": []
          },
          "execution_count": 0
        }
      ]
    },
    {
      "cell_type": "code",
      "metadata": {
        "colab": {
          "background_save": true
        },
        "id": "_UrQIzJ9jvMG",
        "outputId": "8fa242ea-dd54-40fd-a282-983abc9d52aa"
      },
      "source": [
        "df['array'] = list(mean_embedded)\n",
        "df"
      ],
      "execution_count": null,
      "outputs": [
        {
          "output_type": "execute_result",
          "data": {
            "text/html": [
              "<div>\n",
              "<style scoped>\n",
              "    .dataframe tbody tr th:only-of-type {\n",
              "        vertical-align: middle;\n",
              "    }\n",
              "\n",
              "    .dataframe tbody tr th {\n",
              "        vertical-align: top;\n",
              "    }\n",
              "\n",
              "    .dataframe thead th {\n",
              "        text-align: right;\n",
              "    }\n",
              "</style>\n",
              "<table border=\"1\" class=\"dataframe\">\n",
              "  <thead>\n",
              "    <tr style=\"text-align: right;\">\n",
              "      <th></th>\n",
              "      <th>text</th>\n",
              "      <th>spam</th>\n",
              "      <th>clean</th>\n",
              "      <th>array</th>\n",
              "    </tr>\n",
              "  </thead>\n",
              "  <tbody>\n",
              "    <tr>\n",
              "      <th>0</th>\n",
              "      <td>Subject: naturally irresistible your corporate...</td>\n",
              "      <td>1</td>\n",
              "      <td>subject naturally irresistible your corporate ...</td>\n",
              "      <td>[0.21176162, -0.34203157, 1.2826957, -0.806826...</td>\n",
              "    </tr>\n",
              "    <tr>\n",
              "      <th>1</th>\n",
              "      <td>Subject: the stock trading gunslinger  fanny i...</td>\n",
              "      <td>1</td>\n",
              "      <td>subject the stock trading gunslinger fanny is ...</td>\n",
              "      <td>[-0.0025425185, -0.14505138, 0.7255452, -0.468...</td>\n",
              "    </tr>\n",
              "    <tr>\n",
              "      <th>2</th>\n",
              "      <td>Subject: unbelievable new homes made easy  im ...</td>\n",
              "      <td>1</td>\n",
              "      <td>subject unbelievable new homes made easy im wa...</td>\n",
              "      <td>[0.09227929, -0.5833881, 1.3070959, -0.7243193...</td>\n",
              "    </tr>\n",
              "    <tr>\n",
              "      <th>3</th>\n",
              "      <td>Subject: 4 color printing special  request add...</td>\n",
              "      <td>1</td>\n",
              "      <td>subject color printing special request additio...</td>\n",
              "      <td>[0.24681394, -0.14307979, 0.64264685, -0.54897...</td>\n",
              "    </tr>\n",
              "    <tr>\n",
              "      <th>4</th>\n",
              "      <td>Subject: do not have money , get software cds ...</td>\n",
              "      <td>1</td>\n",
              "      <td>subject do not have money get software cds fro...</td>\n",
              "      <td>[-0.49776492, -0.23076685, 1.0595285, -0.78966...</td>\n",
              "    </tr>\n",
              "    <tr>\n",
              "      <th>...</th>\n",
              "      <td>...</td>\n",
              "      <td>...</td>\n",
              "      <td>...</td>\n",
              "      <td>...</td>\n",
              "    </tr>\n",
              "    <tr>\n",
              "      <th>5723</th>\n",
              "      <td>Subject: re : research and development charges...</td>\n",
              "      <td>0</td>\n",
              "      <td>subject re research and development charges to...</td>\n",
              "      <td>[-0.36355987, 0.20365159, 0.20887329, -1.20538...</td>\n",
              "    </tr>\n",
              "    <tr>\n",
              "      <th>5724</th>\n",
              "      <td>Subject: re : receipts from visit  jim ,  than...</td>\n",
              "      <td>0</td>\n",
              "      <td>subject re receipts from visit jim thanks agai...</td>\n",
              "      <td>[0.16848873, -0.29650018, 0.010551807, -0.7638...</td>\n",
              "    </tr>\n",
              "    <tr>\n",
              "      <th>5725</th>\n",
              "      <td>Subject: re : enron case study update  wow ! a...</td>\n",
              "      <td>0</td>\n",
              "      <td>subject re enron case study update wow all on ...</td>\n",
              "      <td>[-0.30222207, -0.44878697, 0.59813803, -1.0497...</td>\n",
              "    </tr>\n",
              "    <tr>\n",
              "      <th>5726</th>\n",
              "      <td>Subject: re : interest  david ,  please , call...</td>\n",
              "      <td>0</td>\n",
              "      <td>subject re interest david please call shirley ...</td>\n",
              "      <td>[-0.31626546, -0.03382985, -0.21419391, -1.161...</td>\n",
              "    </tr>\n",
              "    <tr>\n",
              "      <th>5727</th>\n",
              "      <td>Subject: news : aurora 5 . 2 update  aurora ve...</td>\n",
              "      <td>0</td>\n",
              "      <td>subject news aurora update aurora version the ...</td>\n",
              "      <td>[0.27590147, -0.045867886, 0.69938666, -0.6851...</td>\n",
              "    </tr>\n",
              "  </tbody>\n",
              "</table>\n",
              "<p>5728 rows × 4 columns</p>\n",
              "</div>"
            ],
            "text/plain": [
              "                                                   text  ...                                              array\n",
              "0     Subject: naturally irresistible your corporate...  ...  [0.21176162, -0.34203157, 1.2826957, -0.806826...\n",
              "1     Subject: the stock trading gunslinger  fanny i...  ...  [-0.0025425185, -0.14505138, 0.7255452, -0.468...\n",
              "2     Subject: unbelievable new homes made easy  im ...  ...  [0.09227929, -0.5833881, 1.3070959, -0.7243193...\n",
              "3     Subject: 4 color printing special  request add...  ...  [0.24681394, -0.14307979, 0.64264685, -0.54897...\n",
              "4     Subject: do not have money , get software cds ...  ...  [-0.49776492, -0.23076685, 1.0595285, -0.78966...\n",
              "...                                                 ...  ...                                                ...\n",
              "5723  Subject: re : research and development charges...  ...  [-0.36355987, 0.20365159, 0.20887329, -1.20538...\n",
              "5724  Subject: re : receipts from visit  jim ,  than...  ...  [0.16848873, -0.29650018, 0.010551807, -0.7638...\n",
              "5725  Subject: re : enron case study update  wow ! a...  ...  [-0.30222207, -0.44878697, 0.59813803, -1.0497...\n",
              "5726  Subject: re : interest  david ,  please , call...  ...  [-0.31626546, -0.03382985, -0.21419391, -1.161...\n",
              "5727  Subject: news : aurora 5 . 2 update  aurora ve...  ...  [0.27590147, -0.045867886, 0.69938666, -0.6851...\n",
              "\n",
              "[5728 rows x 4 columns]"
            ]
          },
          "metadata": {
            "tags": []
          },
          "execution_count": 0
        }
      ]
    },
    {
      "cell_type": "code",
      "metadata": {
        "colab": {
          "background_save": true
        },
        "id": "B2xwrWiqjzFC"
      },
      "source": [
        ""
      ],
      "execution_count": null,
      "outputs": []
    }
  ]
}