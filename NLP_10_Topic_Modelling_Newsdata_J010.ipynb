{
  "nbformat": 4,
  "nbformat_minor": 0,
  "metadata": {
    "kernelspec": {
      "display_name": "Python 3",
      "language": "python",
      "name": "python3"
    },
    "language_info": {
      "codemirror_mode": {
        "name": "ipython",
        "version": 3
      },
      "file_extension": ".py",
      "mimetype": "text/x-python",
      "name": "python",
      "nbconvert_exporter": "python",
      "pygments_lexer": "ipython3",
      "version": "3.6.4"
    },
    "colab": {
      "name": "NLP_10_Topic_Modelling_Newsdata_J010.ipynb",
      "provenance": [],
      "collapsed_sections": [],
      "include_colab_link": true
    }
  },
  "cells": [
    {
      "cell_type": "markdown",
      "metadata": {
        "id": "view-in-github",
        "colab_type": "text"
      },
      "source": [
        "<a href=\"https://colab.research.google.com/github/vineetbiyani09/NLP/blob/master/NLP_10_Topic_Modelling_Newsdata_J010.ipynb\" target=\"_parent\"><img src=\"https://colab.research.google.com/assets/colab-badge.svg\" alt=\"Open In Colab\"/></a>"
      ]
    },
    {
      "cell_type": "code",
      "metadata": {
        "colab": {
          "base_uri": "https://localhost:8080/"
        },
        "id": "OKQuQ-RQ9Kgf",
        "outputId": "532ae3f9-0d25-408a-c81f-a77d360e9653"
      },
      "source": [
        "from google.colab import drive\n",
        "drive.mount('/content/drive')"
      ],
      "execution_count": null,
      "outputs": [
        {
          "output_type": "stream",
          "text": [
            "Mounted at /content/drive\n"
          ],
          "name": "stdout"
        }
      ]
    },
    {
      "cell_type": "code",
      "metadata": {
        "id": "2pqOEbrh9B6f"
      },
      "source": [
        "import pandas as pd\n",
        "data = pd.read_csv('/content/drive/MyDrive/labnlpabcnews-date-text.csv')\n",
        "data_text = data[['headline_text']]\n",
        "data_text['index'] = data_text.index\n",
        "documents = data_text"
      ],
      "execution_count": null,
      "outputs": []
    },
    {
      "cell_type": "code",
      "metadata": {
        "colab": {
          "base_uri": "https://localhost:8080/"
        },
        "id": "uZmdPyty9B6q",
        "outputId": "c3a6b71c-f80d-416f-c5b3-fa0d409588ef"
      },
      "source": [
        "len(documents)"
      ],
      "execution_count": null,
      "outputs": [
        {
          "output_type": "execute_result",
          "data": {
            "text/plain": [
              "1226258"
            ]
          },
          "metadata": {
            "tags": []
          },
          "execution_count": 3
        }
      ]
    },
    {
      "cell_type": "code",
      "metadata": {
        "colab": {
          "base_uri": "https://localhost:8080/",
          "height": 196
        },
        "id": "Wp5BXLkG9B6u",
        "outputId": "a11624b6-1daa-46da-cac8-43aabc157cd8"
      },
      "source": [
        "documents[:5]"
      ],
      "execution_count": null,
      "outputs": [
        {
          "output_type": "execute_result",
          "data": {
            "text/html": [
              "<div>\n",
              "<style scoped>\n",
              "    .dataframe tbody tr th:only-of-type {\n",
              "        vertical-align: middle;\n",
              "    }\n",
              "\n",
              "    .dataframe tbody tr th {\n",
              "        vertical-align: top;\n",
              "    }\n",
              "\n",
              "    .dataframe thead th {\n",
              "        text-align: right;\n",
              "    }\n",
              "</style>\n",
              "<table border=\"1\" class=\"dataframe\">\n",
              "  <thead>\n",
              "    <tr style=\"text-align: right;\">\n",
              "      <th></th>\n",
              "      <th>headline_text</th>\n",
              "      <th>index</th>\n",
              "    </tr>\n",
              "  </thead>\n",
              "  <tbody>\n",
              "    <tr>\n",
              "      <th>0</th>\n",
              "      <td>aba decides against community broadcasting lic...</td>\n",
              "      <td>0</td>\n",
              "    </tr>\n",
              "    <tr>\n",
              "      <th>1</th>\n",
              "      <td>act fire witnesses must be aware of defamation</td>\n",
              "      <td>1</td>\n",
              "    </tr>\n",
              "    <tr>\n",
              "      <th>2</th>\n",
              "      <td>a g calls for infrastructure protection summit</td>\n",
              "      <td>2</td>\n",
              "    </tr>\n",
              "    <tr>\n",
              "      <th>3</th>\n",
              "      <td>air nz staff in aust strike for pay rise</td>\n",
              "      <td>3</td>\n",
              "    </tr>\n",
              "    <tr>\n",
              "      <th>4</th>\n",
              "      <td>air nz strike to affect australian travellers</td>\n",
              "      <td>4</td>\n",
              "    </tr>\n",
              "  </tbody>\n",
              "</table>\n",
              "</div>"
            ],
            "text/plain": [
              "                                       headline_text  index\n",
              "0  aba decides against community broadcasting lic...      0\n",
              "1     act fire witnesses must be aware of defamation      1\n",
              "2     a g calls for infrastructure protection summit      2\n",
              "3           air nz staff in aust strike for pay rise      3\n",
              "4      air nz strike to affect australian travellers      4"
            ]
          },
          "metadata": {
            "tags": []
          },
          "execution_count": 4
        }
      ]
    },
    {
      "cell_type": "markdown",
      "metadata": {
        "id": "WhE02B_K9B6v"
      },
      "source": [
        "### Data Preprocessing"
      ]
    },
    {
      "cell_type": "code",
      "metadata": {
        "id": "7xHsieQV9B6w"
      },
      "source": [
        "import gensim\n",
        "from gensim.utils import simple_preprocess\n",
        "from gensim.parsing.preprocessing import STOPWORDS\n",
        "from nltk.stem import WordNetLemmatizer, SnowballStemmer\n",
        "from nltk.stem.porter import *\n",
        "import numpy as np\n",
        "np.random.seed(2018)"
      ],
      "execution_count": null,
      "outputs": []
    },
    {
      "cell_type": "code",
      "metadata": {
        "colab": {
          "base_uri": "https://localhost:8080/"
        },
        "id": "vDc1I5V-9B6x",
        "outputId": "897fa589-1b8f-4116-c98a-e6b0e6764c35"
      },
      "source": [
        "import nltk\n",
        "nltk.download('wordnet')"
      ],
      "execution_count": null,
      "outputs": [
        {
          "output_type": "stream",
          "text": [
            "[nltk_data] Downloading package wordnet to /root/nltk_data...\n",
            "[nltk_data]   Unzipping corpora/wordnet.zip.\n"
          ],
          "name": "stdout"
        },
        {
          "output_type": "execute_result",
          "data": {
            "text/plain": [
              "True"
            ]
          },
          "metadata": {
            "tags": []
          },
          "execution_count": 6
        }
      ]
    },
    {
      "cell_type": "markdown",
      "metadata": {
        "id": "cIEKNp4M9B6y"
      },
      "source": [
        "#### Lemmatize example"
      ]
    },
    {
      "cell_type": "code",
      "metadata": {
        "colab": {
          "base_uri": "https://localhost:8080/"
        },
        "id": "rJJFXxl99B6z",
        "outputId": "d8b6a82d-64c8-4e48-8b9a-1f1ea82af1e5"
      },
      "source": [
        "print(WordNetLemmatizer().lemmatize('went', pos='v'))"
      ],
      "execution_count": null,
      "outputs": [
        {
          "output_type": "stream",
          "text": [
            "go\n"
          ],
          "name": "stdout"
        }
      ]
    },
    {
      "cell_type": "markdown",
      "metadata": {
        "id": "32mbPXLN9B60"
      },
      "source": [
        "#### Stemmer Example"
      ]
    },
    {
      "cell_type": "code",
      "metadata": {
        "colab": {
          "base_uri": "https://localhost:8080/",
          "height": 614
        },
        "id": "txbYlroB9B60",
        "outputId": "b5950888-4040-4933-c5ec-3e1eedbfda11"
      },
      "source": [
        "stemmer = SnowballStemmer('english')\n",
        "original_words = ['caresses', 'flies', 'dies', 'mules', 'denied','died', 'agreed', 'owned', \n",
        "           'humbled', 'sized','meeting', 'stating', 'siezing', 'itemization','sensational', \n",
        "           'traditional', 'reference', 'colonizer','plotted']\n",
        "singles = [stemmer.stem(plural) for plural in original_words]\n",
        "pd.DataFrame(data = {'original word': original_words, 'stemmed': singles})"
      ],
      "execution_count": null,
      "outputs": [
        {
          "output_type": "execute_result",
          "data": {
            "text/html": [
              "<div>\n",
              "<style scoped>\n",
              "    .dataframe tbody tr th:only-of-type {\n",
              "        vertical-align: middle;\n",
              "    }\n",
              "\n",
              "    .dataframe tbody tr th {\n",
              "        vertical-align: top;\n",
              "    }\n",
              "\n",
              "    .dataframe thead th {\n",
              "        text-align: right;\n",
              "    }\n",
              "</style>\n",
              "<table border=\"1\" class=\"dataframe\">\n",
              "  <thead>\n",
              "    <tr style=\"text-align: right;\">\n",
              "      <th></th>\n",
              "      <th>original word</th>\n",
              "      <th>stemmed</th>\n",
              "    </tr>\n",
              "  </thead>\n",
              "  <tbody>\n",
              "    <tr>\n",
              "      <th>0</th>\n",
              "      <td>caresses</td>\n",
              "      <td>caress</td>\n",
              "    </tr>\n",
              "    <tr>\n",
              "      <th>1</th>\n",
              "      <td>flies</td>\n",
              "      <td>fli</td>\n",
              "    </tr>\n",
              "    <tr>\n",
              "      <th>2</th>\n",
              "      <td>dies</td>\n",
              "      <td>die</td>\n",
              "    </tr>\n",
              "    <tr>\n",
              "      <th>3</th>\n",
              "      <td>mules</td>\n",
              "      <td>mule</td>\n",
              "    </tr>\n",
              "    <tr>\n",
              "      <th>4</th>\n",
              "      <td>denied</td>\n",
              "      <td>deni</td>\n",
              "    </tr>\n",
              "    <tr>\n",
              "      <th>5</th>\n",
              "      <td>died</td>\n",
              "      <td>die</td>\n",
              "    </tr>\n",
              "    <tr>\n",
              "      <th>6</th>\n",
              "      <td>agreed</td>\n",
              "      <td>agre</td>\n",
              "    </tr>\n",
              "    <tr>\n",
              "      <th>7</th>\n",
              "      <td>owned</td>\n",
              "      <td>own</td>\n",
              "    </tr>\n",
              "    <tr>\n",
              "      <th>8</th>\n",
              "      <td>humbled</td>\n",
              "      <td>humbl</td>\n",
              "    </tr>\n",
              "    <tr>\n",
              "      <th>9</th>\n",
              "      <td>sized</td>\n",
              "      <td>size</td>\n",
              "    </tr>\n",
              "    <tr>\n",
              "      <th>10</th>\n",
              "      <td>meeting</td>\n",
              "      <td>meet</td>\n",
              "    </tr>\n",
              "    <tr>\n",
              "      <th>11</th>\n",
              "      <td>stating</td>\n",
              "      <td>state</td>\n",
              "    </tr>\n",
              "    <tr>\n",
              "      <th>12</th>\n",
              "      <td>siezing</td>\n",
              "      <td>siez</td>\n",
              "    </tr>\n",
              "    <tr>\n",
              "      <th>13</th>\n",
              "      <td>itemization</td>\n",
              "      <td>item</td>\n",
              "    </tr>\n",
              "    <tr>\n",
              "      <th>14</th>\n",
              "      <td>sensational</td>\n",
              "      <td>sensat</td>\n",
              "    </tr>\n",
              "    <tr>\n",
              "      <th>15</th>\n",
              "      <td>traditional</td>\n",
              "      <td>tradit</td>\n",
              "    </tr>\n",
              "    <tr>\n",
              "      <th>16</th>\n",
              "      <td>reference</td>\n",
              "      <td>refer</td>\n",
              "    </tr>\n",
              "    <tr>\n",
              "      <th>17</th>\n",
              "      <td>colonizer</td>\n",
              "      <td>colon</td>\n",
              "    </tr>\n",
              "    <tr>\n",
              "      <th>18</th>\n",
              "      <td>plotted</td>\n",
              "      <td>plot</td>\n",
              "    </tr>\n",
              "  </tbody>\n",
              "</table>\n",
              "</div>"
            ],
            "text/plain": [
              "   original word stemmed\n",
              "0       caresses  caress\n",
              "1          flies     fli\n",
              "2           dies     die\n",
              "3          mules    mule\n",
              "4         denied    deni\n",
              "5           died     die\n",
              "6         agreed    agre\n",
              "7          owned     own\n",
              "8        humbled   humbl\n",
              "9          sized    size\n",
              "10       meeting    meet\n",
              "11       stating   state\n",
              "12       siezing    siez\n",
              "13   itemization    item\n",
              "14   sensational  sensat\n",
              "15   traditional  tradit\n",
              "16     reference   refer\n",
              "17     colonizer   colon\n",
              "18       plotted    plot"
            ]
          },
          "metadata": {
            "tags": []
          },
          "execution_count": 8
        }
      ]
    },
    {
      "cell_type": "code",
      "metadata": {
        "id": "SoATQbwx9B62"
      },
      "source": [
        "def lemmatize_stemming(text):\n",
        "    return stemmer.stem(WordNetLemmatizer().lemmatize(text, pos='v'))\n",
        "\n",
        "def preprocess(text):\n",
        "    result = []\n",
        "    for token in gensim.utils.simple_preprocess(text):\n",
        "        if token not in gensim.parsing.preprocessing.STOPWORDS and len(token) > 3:\n",
        "            result.append(lemmatize_stemming(token))\n",
        "    return result"
      ],
      "execution_count": null,
      "outputs": []
    },
    {
      "cell_type": "code",
      "metadata": {
        "colab": {
          "base_uri": "https://localhost:8080/"
        },
        "id": "pdPL8iwk9B63",
        "outputId": "17e9d8ac-a8f8-4300-f815-d78d043863c9"
      },
      "source": [
        "doc_sample = documents[documents['index'] == 4310].values[0][0]\n",
        "\n",
        "print('original document: ')\n",
        "words = []\n",
        "for word in doc_sample.split(' '):\n",
        "    words.append(word)\n",
        "print(words)\n",
        "print('\\n\\n tokenized and lemmatized document: ')\n",
        "print(preprocess(doc_sample))"
      ],
      "execution_count": null,
      "outputs": [
        {
          "output_type": "stream",
          "text": [
            "original document: \n",
            "['ratepayers', 'group', 'wants', 'compulsory', 'local', 'govt', 'voting']\n",
            "\n",
            "\n",
            " tokenized and lemmatized document: \n",
            "['ratepay', 'group', 'want', 'compulsori', 'local', 'govt', 'vote']\n"
          ],
          "name": "stdout"
        }
      ]
    },
    {
      "cell_type": "code",
      "metadata": {
        "id": "kcpj-wiD9B64"
      },
      "source": [
        "processed_docs = documents['headline_text'].map(preprocess)"
      ],
      "execution_count": null,
      "outputs": []
    },
    {
      "cell_type": "code",
      "metadata": {
        "colab": {
          "base_uri": "https://localhost:8080/"
        },
        "id": "s1KhQ5tv9B64",
        "outputId": "366c3139-2b18-43ee-dd79-065ec4a7ab7d"
      },
      "source": [
        "processed_docs[:10]"
      ],
      "execution_count": null,
      "outputs": [
        {
          "output_type": "execute_result",
          "data": {
            "text/plain": [
              "0            [decid, communiti, broadcast, licenc]\n",
              "1                               [wit, awar, defam]\n",
              "2           [call, infrastructur, protect, summit]\n",
              "3                      [staff, aust, strike, rise]\n",
              "4             [strike, affect, australian, travel]\n",
              "5               [ambiti, olsson, win, tripl, jump]\n",
              "6           [antic, delight, record, break, barca]\n",
              "7    [aussi, qualifi, stosur, wast, memphi, match]\n",
              "8            [aust, address, secur, council, iraq]\n",
              "9                         [australia, lock, timet]\n",
              "Name: headline_text, dtype: object"
            ]
          },
          "metadata": {
            "tags": []
          },
          "execution_count": 12
        }
      ]
    },
    {
      "cell_type": "markdown",
      "metadata": {
        "id": "_ImVYaKi9B65"
      },
      "source": [
        "### Bag of words on the dataset"
      ]
    },
    {
      "cell_type": "code",
      "metadata": {
        "id": "JtxC2f149B66"
      },
      "source": [
        "dictionary = gensim.corpora.Dictionary(processed_docs)"
      ],
      "execution_count": null,
      "outputs": []
    },
    {
      "cell_type": "code",
      "metadata": {
        "colab": {
          "base_uri": "https://localhost:8080/"
        },
        "id": "SH2XUAbV9B66",
        "outputId": "cb37aa50-6ea8-4a1a-b2af-3ab5adc9b454"
      },
      "source": [
        "count = 0\n",
        "for k, v in dictionary.iteritems():\n",
        "    print(k, v)\n",
        "    count += 1\n",
        "    if count > 10:\n",
        "        break"
      ],
      "execution_count": null,
      "outputs": [
        {
          "output_type": "stream",
          "text": [
            "0 broadcast\n",
            "1 communiti\n",
            "2 decid\n",
            "3 licenc\n",
            "4 awar\n",
            "5 defam\n",
            "6 wit\n",
            "7 call\n",
            "8 infrastructur\n",
            "9 protect\n",
            "10 summit\n"
          ],
          "name": "stdout"
        }
      ]
    },
    {
      "cell_type": "code",
      "metadata": {
        "id": "fWxkMGHs9B67"
      },
      "source": [
        "dictionary.filter_extremes(no_below=15, no_above=0.5, keep_n=100000)"
      ],
      "execution_count": null,
      "outputs": []
    },
    {
      "cell_type": "code",
      "metadata": {
        "colab": {
          "base_uri": "https://localhost:8080/"
        },
        "id": "U7ZBARXK9B68",
        "outputId": "2df38d68-06d1-410d-a2e7-07463e0c0717"
      },
      "source": [
        "bow_corpus = [dictionary.doc2bow(doc) for doc in processed_docs]\n",
        "bow_corpus[4310]"
      ],
      "execution_count": null,
      "outputs": [
        {
          "output_type": "execute_result",
          "data": {
            "text/plain": [
              "[(162, 1), (240, 1), (292, 1), (589, 1), (838, 1), (3570, 1), (3571, 1)]"
            ]
          },
          "metadata": {
            "tags": []
          },
          "execution_count": 16
        }
      ]
    },
    {
      "cell_type": "code",
      "metadata": {
        "colab": {
          "base_uri": "https://localhost:8080/"
        },
        "id": "VmIn004g9B69",
        "outputId": "d852a12c-f440-4dc1-d4eb-a58fca4cc7c3"
      },
      "source": [
        "bow_doc_4310 = bow_corpus[4310]\n",
        "\n",
        "for i in range(len(bow_doc_4310)):\n",
        "    print(\"Word {} (\\\"{}\\\") appears {} time.\".format(bow_doc_4310[i][0], \n",
        "                                                     dictionary[bow_doc_4310[i][0]], \n",
        "                                                     bow_doc_4310[i][1]))"
      ],
      "execution_count": null,
      "outputs": [
        {
          "output_type": "stream",
          "text": [
            "Word 162 (\"govt\") appears 1 time.\n",
            "Word 240 (\"group\") appears 1 time.\n",
            "Word 292 (\"vote\") appears 1 time.\n",
            "Word 589 (\"local\") appears 1 time.\n",
            "Word 838 (\"want\") appears 1 time.\n",
            "Word 3570 (\"compulsori\") appears 1 time.\n",
            "Word 3571 (\"ratepay\") appears 1 time.\n"
          ],
          "name": "stdout"
        }
      ]
    },
    {
      "cell_type": "markdown",
      "metadata": {
        "id": "pNzfj5F-9B6-"
      },
      "source": [
        "### TF-IDF"
      ]
    },
    {
      "cell_type": "code",
      "metadata": {
        "id": "DSdZJHDo9B6-"
      },
      "source": [
        "from gensim import corpora, models\n",
        "\n",
        "tfidf = models.TfidfModel(bow_corpus)"
      ],
      "execution_count": null,
      "outputs": []
    },
    {
      "cell_type": "code",
      "metadata": {
        "id": "b5oT6yQr9B6_"
      },
      "source": [
        "corpus_tfidf = tfidf[bow_corpus]"
      ],
      "execution_count": null,
      "outputs": []
    },
    {
      "cell_type": "code",
      "metadata": {
        "colab": {
          "base_uri": "https://localhost:8080/"
        },
        "id": "H2ARE5FY9B7A",
        "outputId": "00b676c1-8e4a-4703-a437-6a85a30be992"
      },
      "source": [
        "from pprint import pprint\n",
        "\n",
        "for doc in corpus_tfidf:\n",
        "    pprint(doc)\n",
        "    break"
      ],
      "execution_count": null,
      "outputs": [
        {
          "output_type": "stream",
          "text": [
            "[(0, 0.5842699484464488),\n",
            " (1, 0.38798859072167835),\n",
            " (2, 0.5008422243250992),\n",
            " (3, 0.5071987254965034)]\n"
          ],
          "name": "stdout"
        }
      ]
    },
    {
      "cell_type": "markdown",
      "metadata": {
        "id": "tM4OOE0z9B7A"
      },
      "source": [
        "### Running LDA using Bag of Words"
      ]
    },
    {
      "cell_type": "code",
      "metadata": {
        "id": "tJJz5R9o9B7B"
      },
      "source": [
        "lda_model = gensim.models.LdaMulticore(bow_corpus, num_topics=10, id2word=dictionary, passes=2, workers=2)"
      ],
      "execution_count": null,
      "outputs": []
    },
    {
      "cell_type": "code",
      "metadata": {
        "colab": {
          "base_uri": "https://localhost:8080/"
        },
        "id": "WuLDy01Q9B7B",
        "outputId": "b4b66062-b80e-4758-f8bd-136b34432a07"
      },
      "source": [
        "for idx, topic in lda_model.print_topics(-1):\n",
        "    print('Topic: {} \\nWords: {}'.format(idx, topic))"
      ],
      "execution_count": null,
      "outputs": [
        {
          "output_type": "stream",
          "text": [
            "Topic: 0 \n",
            "Words: 0.017*\"border\" + 0.016*\"australia\" + 0.013*\"interview\" + 0.012*\"health\" + 0.010*\"talk\" + 0.010*\"say\" + 0.009*\"coronavirus\" + 0.009*\"quarantin\" + 0.009*\"weather\" + 0.008*\"mental\"\n",
            "Topic: 1 \n",
            "Words: 0.045*\"trump\" + 0.029*\"charg\" + 0.029*\"case\" + 0.028*\"court\" + 0.024*\"murder\" + 0.019*\"face\" + 0.018*\"alleg\" + 0.015*\"jail\" + 0.015*\"woman\" + 0.014*\"accus\"\n",
            "Topic: 2 \n",
            "Words: 0.044*\"coronavirus\" + 0.034*\"covid\" + 0.015*\"tasmania\" + 0.014*\"school\" + 0.014*\"govern\" + 0.012*\"dead\" + 0.011*\"fund\" + 0.011*\"communiti\" + 0.010*\"student\" + 0.010*\"break\"\n",
            "Topic: 3 \n",
            "Words: 0.039*\"queensland\" + 0.031*\"victoria\" + 0.027*\"melbourn\" + 0.020*\"coast\" + 0.014*\"farmer\" + 0.014*\"australia\" + 0.014*\"coronavirus\" + 0.013*\"win\" + 0.012*\"gold\" + 0.012*\"west\"\n",
            "Topic: 4 \n",
            "Words: 0.022*\"home\" + 0.022*\"kill\" + 0.022*\"news\" + 0.018*\"state\" + 0.015*\"perth\" + 0.014*\"peopl\" + 0.014*\"bushfir\" + 0.013*\"attack\" + 0.012*\"child\" + 0.011*\"care\"\n",
            "Topic: 5 \n",
            "Words: 0.020*\"open\" + 0.020*\"adelaid\" + 0.016*\"final\" + 0.015*\"miss\" + 0.015*\"trial\" + 0.013*\"scott\" + 0.012*\"island\" + 0.012*\"street\" + 0.010*\"beat\" + 0.010*\"season\"\n",
            "Topic: 6 \n",
            "Words: 0.058*\"polic\" + 0.026*\"donald\" + 0.025*\"live\" + 0.016*\"death\" + 0.016*\"crash\" + 0.015*\"investig\" + 0.013*\"royal\" + 0.013*\"die\" + 0.013*\"morrison\" + 0.012*\"shoot\"\n",
            "Topic: 7 \n",
            "Words: 0.037*\"coronavirus\" + 0.019*\"south\" + 0.017*\"north\" + 0.017*\"year\" + 0.016*\"restrict\" + 0.016*\"rise\" + 0.015*\"nation\" + 0.015*\"water\" + 0.015*\"victorian\" + 0.012*\"price\"\n",
            "Topic: 8 \n",
            "Words: 0.038*\"australia\" + 0.021*\"world\" + 0.019*\"market\" + 0.017*\"protest\" + 0.017*\"record\" + 0.015*\"australian\" + 0.014*\"busi\" + 0.014*\"china\" + 0.012*\"time\" + 0.011*\"coronavirus\"\n",
            "Topic: 9 \n",
            "Words: 0.028*\"elect\" + 0.021*\"say\" + 0.014*\"govern\" + 0.012*\"labor\" + 0.011*\"chang\" + 0.011*\"speak\" + 0.010*\"drum\" + 0.010*\"andrew\" + 0.009*\"public\" + 0.009*\"vote\"\n"
          ],
          "name": "stdout"
        }
      ]
    },
    {
      "cell_type": "markdown",
      "metadata": {
        "id": "6WslGeNE9B7C"
      },
      "source": [
        "Cool! Can you distinguish different topics using the words in each topic and their corresponding weights?"
      ]
    },
    {
      "cell_type": "markdown",
      "metadata": {
        "id": "FWwkLN9Z9B7D"
      },
      "source": [
        "### Running LDA using TF-IDF"
      ]
    },
    {
      "cell_type": "code",
      "metadata": {
        "id": "olhe1zFn9B7D"
      },
      "source": [
        "lda_model_tfidf = gensim.models.LdaMulticore(corpus_tfidf, num_topics=10, id2word=dictionary, passes=2, workers=4)"
      ],
      "execution_count": null,
      "outputs": []
    },
    {
      "cell_type": "code",
      "metadata": {
        "colab": {
          "base_uri": "https://localhost:8080/"
        },
        "id": "-G2EaU6P9B7E",
        "outputId": "017beae2-d8ba-4d08-81c8-14a8b80ff9a3"
      },
      "source": [
        "for idx, topic in lda_model_tfidf.print_topics(-1):\n",
        "    print('Topic: {} Word: {}'.format(idx, topic))"
      ],
      "execution_count": null,
      "outputs": [
        {
          "output_type": "stream",
          "text": [
            "Topic: 0 Word: 0.014*\"drum\" + 0.009*\"friday\" + 0.009*\"thursday\" + 0.008*\"david\" + 0.007*\"hill\" + 0.007*\"march\" + 0.005*\"hong\" + 0.005*\"georg\" + 0.005*\"kong\" + 0.005*\"histori\"\n",
            "Topic: 1 Word: 0.008*\"final\" + 0.007*\"scott\" + 0.007*\"wall\" + 0.007*\"world\" + 0.006*\"juli\" + 0.006*\"australia\" + 0.006*\"cricket\" + 0.006*\"leagu\" + 0.005*\"rugbi\" + 0.005*\"street\"\n",
            "Topic: 2 Word: 0.011*\"govern\" + 0.009*\"health\" + 0.009*\"countri\" + 0.008*\"coronavirus\" + 0.008*\"elect\" + 0.007*\"hour\" + 0.006*\"budget\" + 0.006*\"fund\" + 0.006*\"feder\" + 0.006*\"say\"\n",
            "Topic: 3 Word: 0.016*\"interview\" + 0.007*\"extend\" + 0.006*\"jam\" + 0.005*\"asylum\" + 0.005*\"mount\" + 0.005*\"john\" + 0.005*\"seeker\" + 0.004*\"phone\" + 0.004*\"love\" + 0.004*\"accid\"\n",
            "Topic: 4 Word: 0.012*\"polic\" + 0.009*\"search\" + 0.008*\"miss\" + 0.008*\"coast\" + 0.008*\"woman\" + 0.007*\"beach\" + 0.006*\"peter\" + 0.006*\"sydney\" + 0.006*\"bodi\" + 0.006*\"alan\"\n",
            "Topic: 5 Word: 0.022*\"trump\" + 0.013*\"murder\" + 0.012*\"charg\" + 0.010*\"polic\" + 0.010*\"court\" + 0.009*\"alleg\" + 0.008*\"death\" + 0.008*\"kill\" + 0.007*\"jail\" + 0.007*\"child\"\n",
            "Topic: 6 Word: 0.015*\"donald\" + 0.010*\"stori\" + 0.009*\"sport\" + 0.008*\"crash\" + 0.007*\"grandstand\" + 0.006*\"daniel\" + 0.006*\"australia\" + 0.006*\"brief\" + 0.005*\"plane\" + 0.005*\"test\"\n",
            "Topic: 7 Word: 0.010*\"coronavirus\" + 0.008*\"australia\" + 0.008*\"wednesday\" + 0.007*\"updat\" + 0.007*\"live\" + 0.007*\"covid\" + 0.006*\"china\" + 0.006*\"korea\" + 0.006*\"august\" + 0.006*\"south\"\n",
            "Topic: 8 Word: 0.018*\"coronavirus\" + 0.011*\"victoria\" + 0.010*\"covid\" + 0.008*\"tuesday\" + 0.007*\"queensland\" + 0.006*\"age\" + 0.006*\"bushfir\" + 0.006*\"lockdown\" + 0.006*\"pandem\" + 0.006*\"rain\"\n",
            "Topic: 9 Word: 0.019*\"news\" + 0.016*\"market\" + 0.012*\"rural\" + 0.008*\"weather\" + 0.007*\"christma\" + 0.007*\"michael\" + 0.007*\"price\" + 0.006*\"nation\" + 0.006*\"australian\" + 0.006*\"farmer\"\n"
          ],
          "name": "stdout"
        }
      ]
    },
    {
      "cell_type": "markdown",
      "metadata": {
        "id": "-ZU7HYhJ9B7F"
      },
      "source": [
        "### Classification of the topics"
      ]
    },
    {
      "cell_type": "markdown",
      "metadata": {
        "id": "cAMWgNEc9B7F"
      },
      "source": [
        "### Performance evaluation by classifying sample document using LDA Bag of Words model"
      ]
    },
    {
      "cell_type": "code",
      "metadata": {
        "id": "2UwoSYlu9B7G",
        "colab": {
          "base_uri": "https://localhost:8080/"
        },
        "outputId": "70ad718c-7740-44c9-bf9b-290e53cfeec0"
      },
      "source": [
        "processed_docs[4310]"
      ],
      "execution_count": null,
      "outputs": [
        {
          "output_type": "execute_result",
          "data": {
            "text/plain": [
              "['ratepay', 'group', 'want', 'compulsori', 'local', 'govt', 'vote']"
            ]
          },
          "metadata": {
            "tags": []
          },
          "execution_count": 25
        }
      ]
    },
    {
      "cell_type": "code",
      "metadata": {
        "id": "pu_onr5B9B7H",
        "colab": {
          "base_uri": "https://localhost:8080/"
        },
        "outputId": "6725c200-4de6-4bb7-a575-9a4face12c44"
      },
      "source": [
        "for index, score in sorted(lda_model[bow_corpus[4310]], key=lambda tup: -1*tup[1]):\n",
        "    print(\"\\nScore: {}\\t \\nTopic: {}\".format(score, lda_model.print_topic(index, 10)))"
      ],
      "execution_count": null,
      "outputs": [
        {
          "output_type": "stream",
          "text": [
            "\n",
            "Score: 0.8874959349632263\t \n",
            "Topic: 0.028*\"elect\" + 0.021*\"say\" + 0.014*\"govern\" + 0.012*\"labor\" + 0.011*\"chang\" + 0.011*\"speak\" + 0.010*\"drum\" + 0.010*\"andrew\" + 0.009*\"public\" + 0.009*\"vote\"\n",
            "\n",
            "Score: 0.012502622790634632\t \n",
            "Topic: 0.044*\"coronavirus\" + 0.034*\"covid\" + 0.015*\"tasmania\" + 0.014*\"school\" + 0.014*\"govern\" + 0.012*\"dead\" + 0.011*\"fund\" + 0.011*\"communiti\" + 0.010*\"student\" + 0.010*\"break\"\n",
            "\n",
            "Score: 0.012500757351517677\t \n",
            "Topic: 0.037*\"coronavirus\" + 0.019*\"south\" + 0.017*\"north\" + 0.017*\"year\" + 0.016*\"restrict\" + 0.016*\"rise\" + 0.015*\"nation\" + 0.015*\"water\" + 0.015*\"victorian\" + 0.012*\"price\"\n",
            "\n",
            "Score: 0.012500663287937641\t \n",
            "Topic: 0.038*\"australia\" + 0.021*\"world\" + 0.019*\"market\" + 0.017*\"protest\" + 0.017*\"record\" + 0.015*\"australian\" + 0.014*\"busi\" + 0.014*\"china\" + 0.012*\"time\" + 0.011*\"coronavirus\"\n",
            "\n",
            "Score: 0.012500016018748283\t \n",
            "Topic: 0.039*\"queensland\" + 0.031*\"victoria\" + 0.027*\"melbourn\" + 0.020*\"coast\" + 0.014*\"farmer\" + 0.014*\"australia\" + 0.014*\"coronavirus\" + 0.013*\"win\" + 0.012*\"gold\" + 0.012*\"west\"\n",
            "\n",
            "Score: 0.012500000186264515\t \n",
            "Topic: 0.017*\"border\" + 0.016*\"australia\" + 0.013*\"interview\" + 0.012*\"health\" + 0.010*\"talk\" + 0.010*\"say\" + 0.009*\"coronavirus\" + 0.009*\"quarantin\" + 0.009*\"weather\" + 0.008*\"mental\"\n",
            "\n",
            "Score: 0.012500000186264515\t \n",
            "Topic: 0.045*\"trump\" + 0.029*\"charg\" + 0.029*\"case\" + 0.028*\"court\" + 0.024*\"murder\" + 0.019*\"face\" + 0.018*\"alleg\" + 0.015*\"jail\" + 0.015*\"woman\" + 0.014*\"accus\"\n",
            "\n",
            "Score: 0.012500000186264515\t \n",
            "Topic: 0.022*\"home\" + 0.022*\"kill\" + 0.022*\"news\" + 0.018*\"state\" + 0.015*\"perth\" + 0.014*\"peopl\" + 0.014*\"bushfir\" + 0.013*\"attack\" + 0.012*\"child\" + 0.011*\"care\"\n",
            "\n",
            "Score: 0.012500000186264515\t \n",
            "Topic: 0.020*\"open\" + 0.020*\"adelaid\" + 0.016*\"final\" + 0.015*\"miss\" + 0.015*\"trial\" + 0.013*\"scott\" + 0.012*\"island\" + 0.012*\"street\" + 0.010*\"beat\" + 0.010*\"season\"\n",
            "\n",
            "Score: 0.012500000186264515\t \n",
            "Topic: 0.058*\"polic\" + 0.026*\"donald\" + 0.025*\"live\" + 0.016*\"death\" + 0.016*\"crash\" + 0.015*\"investig\" + 0.013*\"royal\" + 0.013*\"die\" + 0.013*\"morrison\" + 0.012*\"shoot\"\n"
          ],
          "name": "stdout"
        }
      ]
    },
    {
      "cell_type": "markdown",
      "metadata": {
        "id": "9UmEAHU89B7I"
      },
      "source": [
        "Our test document has the highest probability to be part of the topic on the top."
      ]
    },
    {
      "cell_type": "markdown",
      "metadata": {
        "id": "MIopxqet9B7I"
      },
      "source": [
        "### Performance evaluation by classifying sample document using LDA TF-IDF model"
      ]
    },
    {
      "cell_type": "code",
      "metadata": {
        "id": "QLuahNdJ9B7J",
        "colab": {
          "base_uri": "https://localhost:8080/"
        },
        "outputId": "a7364286-cd85-4d0b-c1ad-0378f6a1fc84"
      },
      "source": [
        "for index, score in sorted(lda_model_tfidf[bow_corpus[4310]], key=lambda tup: -1*tup[1]):\n",
        "    print(\"\\nScore: {}\\t \\nTopic: {}\".format(score, lda_model_tfidf.print_topic(index, 10)))"
      ],
      "execution_count": null,
      "outputs": [
        {
          "output_type": "stream",
          "text": [
            "\n",
            "Score: 0.8874947428703308\t \n",
            "Topic: 0.011*\"govern\" + 0.009*\"health\" + 0.009*\"countri\" + 0.008*\"coronavirus\" + 0.008*\"elect\" + 0.007*\"hour\" + 0.006*\"budget\" + 0.006*\"fund\" + 0.006*\"feder\" + 0.006*\"say\"\n",
            "\n",
            "Score: 0.012501240707933903\t \n",
            "Topic: 0.019*\"news\" + 0.016*\"market\" + 0.012*\"rural\" + 0.008*\"weather\" + 0.007*\"christma\" + 0.007*\"michael\" + 0.007*\"price\" + 0.006*\"nation\" + 0.006*\"australian\" + 0.006*\"farmer\"\n",
            "\n",
            "Score: 0.012500806711614132\t \n",
            "Topic: 0.010*\"coronavirus\" + 0.008*\"australia\" + 0.008*\"wednesday\" + 0.007*\"updat\" + 0.007*\"live\" + 0.007*\"covid\" + 0.006*\"china\" + 0.006*\"korea\" + 0.006*\"august\" + 0.006*\"south\"\n",
            "\n",
            "Score: 0.012500768527388573\t \n",
            "Topic: 0.018*\"coronavirus\" + 0.011*\"victoria\" + 0.010*\"covid\" + 0.008*\"tuesday\" + 0.007*\"queensland\" + 0.006*\"age\" + 0.006*\"bushfir\" + 0.006*\"lockdown\" + 0.006*\"pandem\" + 0.006*\"rain\"\n",
            "\n",
            "Score: 0.012500687502324581\t \n",
            "Topic: 0.014*\"drum\" + 0.009*\"friday\" + 0.009*\"thursday\" + 0.008*\"david\" + 0.007*\"hill\" + 0.007*\"march\" + 0.005*\"hong\" + 0.005*\"georg\" + 0.005*\"kong\" + 0.005*\"histori\"\n",
            "\n",
            "Score: 0.01250047329813242\t \n",
            "Topic: 0.022*\"trump\" + 0.013*\"murder\" + 0.012*\"charg\" + 0.010*\"polic\" + 0.010*\"court\" + 0.009*\"alleg\" + 0.008*\"death\" + 0.008*\"kill\" + 0.007*\"jail\" + 0.007*\"child\"\n",
            "\n",
            "Score: 0.012500385753810406\t \n",
            "Topic: 0.008*\"final\" + 0.007*\"scott\" + 0.007*\"wall\" + 0.007*\"world\" + 0.006*\"juli\" + 0.006*\"australia\" + 0.006*\"cricket\" + 0.006*\"leagu\" + 0.005*\"rugbi\" + 0.005*\"street\"\n",
            "\n",
            "Score: 0.012500368058681488\t \n",
            "Topic: 0.016*\"interview\" + 0.007*\"extend\" + 0.006*\"jam\" + 0.005*\"asylum\" + 0.005*\"mount\" + 0.005*\"john\" + 0.005*\"seeker\" + 0.004*\"phone\" + 0.004*\"love\" + 0.004*\"accid\"\n",
            "\n",
            "Score: 0.01250032801181078\t \n",
            "Topic: 0.015*\"donald\" + 0.010*\"stori\" + 0.009*\"sport\" + 0.008*\"crash\" + 0.007*\"grandstand\" + 0.006*\"daniel\" + 0.006*\"australia\" + 0.006*\"brief\" + 0.005*\"plane\" + 0.005*\"test\"\n",
            "\n",
            "Score: 0.012500221841037273\t \n",
            "Topic: 0.012*\"polic\" + 0.009*\"search\" + 0.008*\"miss\" + 0.008*\"coast\" + 0.008*\"woman\" + 0.007*\"beach\" + 0.006*\"peter\" + 0.006*\"sydney\" + 0.006*\"bodi\" + 0.006*\"alan\"\n"
          ],
          "name": "stdout"
        }
      ]
    },
    {
      "cell_type": "markdown",
      "metadata": {
        "id": "aVSY11mI9B7K"
      },
      "source": [
        "Our test document has the highest probability to be part of the topic on the top."
      ]
    },
    {
      "cell_type": "markdown",
      "metadata": {
        "id": "5-2XVAmd9B7K"
      },
      "source": [
        "### Testing model on unseen document"
      ]
    },
    {
      "cell_type": "code",
      "metadata": {
        "id": "oNoxKixh9B7L",
        "colab": {
          "base_uri": "https://localhost:8080/"
        },
        "outputId": "10728243-1011-4eec-d681-3e60eb2db0ce"
      },
      "source": [
        "unseen_document = 'How a Pentagon deal became an identity crisis for Google'\n",
        "bow_vector = dictionary.doc2bow(preprocess(unseen_document))\n",
        "\n",
        "for index, score in sorted(lda_model[bow_vector], key=lambda tup: -1*tup[1]):\n",
        "    print(\"Score: {}\\t Topic: {}\".format(score, lda_model.print_topic(index, 5)))"
      ],
      "execution_count": null,
      "outputs": [
        {
          "output_type": "stream",
          "text": [
            "Score: 0.3500000536441803\t Topic: 0.038*\"australia\" + 0.021*\"world\" + 0.019*\"market\" + 0.017*\"protest\" + 0.017*\"record\"\n",
            "Score: 0.1833333671092987\t Topic: 0.017*\"border\" + 0.016*\"australia\" + 0.013*\"interview\" + 0.012*\"health\" + 0.010*\"talk\"\n",
            "Score: 0.18333333730697632\t Topic: 0.039*\"queensland\" + 0.031*\"victoria\" + 0.027*\"melbourn\" + 0.020*\"coast\" + 0.014*\"farmer\"\n",
            "Score: 0.18333324790000916\t Topic: 0.028*\"elect\" + 0.021*\"say\" + 0.014*\"govern\" + 0.012*\"labor\" + 0.011*\"chang\"\n",
            "Score: 0.01666666753590107\t Topic: 0.045*\"trump\" + 0.029*\"charg\" + 0.029*\"case\" + 0.028*\"court\" + 0.024*\"murder\"\n",
            "Score: 0.01666666753590107\t Topic: 0.044*\"coronavirus\" + 0.034*\"covid\" + 0.015*\"tasmania\" + 0.014*\"school\" + 0.014*\"govern\"\n",
            "Score: 0.01666666753590107\t Topic: 0.022*\"home\" + 0.022*\"kill\" + 0.022*\"news\" + 0.018*\"state\" + 0.015*\"perth\"\n",
            "Score: 0.01666666753590107\t Topic: 0.020*\"open\" + 0.020*\"adelaid\" + 0.016*\"final\" + 0.015*\"miss\" + 0.015*\"trial\"\n",
            "Score: 0.01666666753590107\t Topic: 0.058*\"polic\" + 0.026*\"donald\" + 0.025*\"live\" + 0.016*\"death\" + 0.016*\"crash\"\n",
            "Score: 0.01666666753590107\t Topic: 0.037*\"coronavirus\" + 0.019*\"south\" + 0.017*\"north\" + 0.017*\"year\" + 0.016*\"restrict\"\n"
          ],
          "name": "stdout"
        }
      ]
    },
    {
      "cell_type": "code",
      "metadata": {
        "id": "3Sab536z9B7M"
      },
      "source": [
        ""
      ],
      "execution_count": null,
      "outputs": []
    }
  ]
}